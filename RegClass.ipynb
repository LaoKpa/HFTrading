{
 "cells": [
  {
   "cell_type": "markdown",
   "metadata": {},
   "source": [
    "Here, we try some basic classification models.  The models don't perform all that well."
   ]
  },
  {
   "cell_type": "code",
   "execution_count": 1,
   "metadata": {},
   "outputs": [
    {
     "name": "stdout",
     "output_type": "stream",
     "text": [
      "0\n",
      "1\n",
      "2\n",
      "3\n",
      "4\n",
      "5\n",
      "6\n",
      "7\n",
      "8\n",
      "9\n"
     ]
    }
   ],
   "source": [
    "import pickle\n",
    "import os.path\n",
    "import pandas as pd\n",
    "import numpy as np\n",
    "from copy import deepcopy\n",
    "import matplotlib.pyplot as plt\n",
    "%matplotlib inline\n",
    "data = []\n",
    "for i in range(10):\n",
    "    path = 'check3' + str(i) + '.pkl'\n",
    "    with open(path, 'rb') as picklefile:\n",
    "        j = pickle.load(picklefile)\n",
    "    data.append(j)\n",
    "    print(i)"
   ]
  },
  {
   "cell_type": "code",
   "execution_count": 4,
   "metadata": {
    "collapsed": true
   },
   "outputs": [],
   "source": [
    "test = deepcopy(data[0])"
   ]
  },
  {
   "cell_type": "code",
   "execution_count": 70,
   "metadata": {},
   "outputs": [
    {
     "name": "stdout",
     "output_type": "stream",
     "text": [
      "[0.912630579297246, 0.9074773413897281, 0.9814488669719383, 0.9392594196621914, 0.9421921101518959, 0.9020156774916014, 0.9382547054509899, 0.8864429530201342, 0.9750865051903115, 0.9063231850117096]\n",
      "-0.07088686563622537\n",
      "-0.5861688346039983\n",
      " \n",
      "[0.994824016563147, 0.9749467491632011, 1.0164153696498055, 1.002195009242144, 1.024720703589256, 0.9852005870841486, 0.9976088990539557, 0.9864077669902912, 1.0008523938059384, 0.9683646112600536]\n",
      "-0.004846389359805747\n",
      "-0.17661126222965318\n"
     ]
    }
   ],
   "source": [
    "rets = []\n",
    "for i in range(10):\n",
    "    rets.append(float(data[i]['EndPrice'][len(data[i])-1])/float(data[i]['StartPrice'][0]))\n",
    "print(rets)\n",
    "a = sum(rets)/len(rets)\n",
    "print(a-1)\n",
    "print(a**12 - 1)\n",
    "print(' ')\n",
    "trets = []\n",
    "for i in range(10):\n",
    "    trets.append(float(data[i]['EndPrice'][len(data[i])-1])/float(data[i]['StartPrice'][7160]))\n",
    "print(trets)\n",
    "b = sum(trets)/len(trets)\n",
    "print(b - 1)\n",
    "print((b**10)**4 -1)"
   ]
  },
  {
   "cell_type": "markdown",
   "metadata": {},
   "source": [
    "So above, we've established a baseline.  Over the course of the month, these 10 stocks had an average annualized movement of -58.6%.  However, for all our other models, we're going to be evaluating them on our testset, so we should evaluate the baseline on the test set as well.  These 10 stocks, over the course of the test period, had an average annualized movement of -17.7%."
   ]
  },
  {
   "cell_type": "code",
   "execution_count": 13,
   "metadata": {},
   "outputs": [
    {
     "name": "stdout",
     "output_type": "stream",
     "text": [
      "[1.0061952728151866, 1.0258227896881769, 1.0537168808812762, 1.0115908350324805, 1.0028391958774301, 0.97517590373403784, 0.98877030081264849, 0.97861093225168649, 0.99043951586974288, 0.99812423734405231]\n",
      "0.00312858643067\n"
     ]
    },
    {
     "data": {
      "text/plain": [
       "([<matplotlib.axis.YTick at 0x1a2d610978>,\n",
       "  <matplotlib.axis.YTick at 0x1a2d6872e8>,\n",
       "  <matplotlib.axis.YTick at 0x1a3108b1d0>,\n",
       "  <matplotlib.axis.YTick at 0x1a310bdac8>,\n",
       "  <matplotlib.axis.YTick at 0x1a31b34160>,\n",
       "  <matplotlib.axis.YTick at 0x1a31b347b8>,\n",
       "  <matplotlib.axis.YTick at 0x1a31b34e10>,\n",
       "  <matplotlib.axis.YTick at 0x1a31b3a4a8>],\n",
       " <a list of 8 Text yticklabel objects>)"
      ]
     },
     "execution_count": 13,
     "metadata": {},
     "output_type": "execute_result"
    },
    {
     "data": {
      "image/png": "[encoded data removed]",
      "text/plain": [
       "<matplotlib.figure.Figure at 0x1a3107acf8>"
      ]
     },
     "metadata": {},
     "output_type": "display_data"
    }
   ],
   "source": [
    "import matplotlib.pyplot as plt\n",
    "%matplotlib inline\n",
    "from sklearn.linear_model import LogisticRegression\n",
    "histread = []\n",
    "forward = 1\n",
    "def targ(x):\n",
    "    ret = deepcopy(test1['logC'])\n",
    "    for i in range(1,x+1):\n",
    "        ret =[x+y for x,y in zip(ret,test1['logC'].shift(i))]\n",
    "    return ret\n",
    "for i in range(10):\n",
    "    test1 = deepcopy(data[i])\n",
    "    test1['target'] = targ(forward)\n",
    "    test1.dropna(inplace=True)\n",
    "    lc1 = deepcopy(test1['target'])\n",
    "    del test1['TradedVolume']\n",
    "    del test1['NumberOfTrades']\n",
    "    del test1['EndPrice']\n",
    "    del test1['logC']\n",
    "    del test1['logEP']\n",
    "    del test1['logMax']\n",
    "    del test1['logMin']\n",
    "    del test1['deLogMax']\n",
    "    del test1['deLogMin']\n",
    "    del test1['deLogSP']\n",
    "    del test1['deLogEP']\n",
    "    del test1['DateTime']\n",
    "    del test1['Mnemonic']\n",
    "    del test1['MaxPrice']\n",
    "    del test1['MinPrice']\n",
    "    y1 = [x>0 for x in lc1]\n",
    "    a = int(.7*len(test1))\n",
    "    trainX1 = test1[:a]\n",
    "    trainy1 = y1[:a]\n",
    "    testX1 = test1[a:]\n",
    "    testy1 = y1[a:]\n",
    "    monkey0 = LogisticRegression(C=10)\n",
    "    monkey0.fit(trainX1,trainy1)\n",
    "    preds0 = monkey0.predict(testX1)\n",
    "    predprobs0 = monkey0.predict_proba(testX1)\n",
    "    threshold = 0\n",
    "    tc1 = lc1[a:].tolist()\n",
    "    cum = np.zeros(forward)\n",
    "    counter = 0\n",
    "    for j in range(len(tc1)):\n",
    "        if predprobs0[j][1]-predprobs0[j][0]>threshold:\n",
    "            cum[j%forward]+=tc1[j]\n",
    "            counter +=1\n",
    "    rr = np.exp(cum)\n",
    "    histread.append(np.average(rr))\n",
    "print(histread)\n",
    "print(sum(histread)/len(histread) - 1)\n",
    "grax = deepcopy(histread)\n",
    "histread = [100*(x-1) for x in grax]\n",
    "plt.hist(histread, bins = [-2,0,2])\n",
    "plt.ylabel('Number of Companies')\n",
    "plt.xlabel('6 Day Percentage Gain')\n",
    "plt.title('Logistic Returns Over 10 Companies')\n",
    "plt.yticks([0,1,2,3,4,5,6,7],['0','1','2','3','4','5','6','7'])"
   ]
  },
  {
   "cell_type": "markdown",
   "metadata": {},
   "source": [
    "Let's check out the annualized return of this predictor."
   ]
  },
  {
   "cell_type": "code",
   "execution_count": 18,
   "metadata": {},
   "outputs": [
    {
     "data": {
      "text/plain": [
       "1.177408131099587"
      ]
     },
     "execution_count": 18,
     "metadata": {},
     "output_type": "execute_result"
    }
   ],
   "source": [
    "((sum(grax)/len(grax))**10)**4"
   ]
  },
  {
   "cell_type": "code",
   "execution_count": 24,
   "metadata": {},
   "outputs": [
    {
     "data": {
      "text/plain": [
       "([<matplotlib.axis.YTick at 0x1166f0668>,\n",
       "  <matplotlib.axis.YTick at 0x1a298e2358>,\n",
       "  <matplotlib.axis.YTick at 0x1a2accc6a0>,\n",
       "  <matplotlib.axis.YTick at 0x1a2ad527b8>,\n",
       "  <matplotlib.axis.YTick at 0x1a2ad52e10>],\n",
       " <a list of 5 Text yticklabel objects>)"
      ]
     },
     "execution_count": 24,
     "metadata": {},
     "output_type": "execute_result"
    },
    {
     "data": {
      "image/png": "[encoded data removed]",
      "text/plain": [
       "<matplotlib.figure.Figure at 0x1a2ac12668>"
      ]
     },
     "metadata": {},
     "output_type": "display_data"
    }
   ],
   "source": [
    "plt.hist(histread, bins = [-.5,0,.5,1,1.5,2])\n",
    "plt.ylabel('Number of Companies')\n",
    "plt.xlabel('6 Day Percentage Gain')\n",
    "plt.title('Logistic Returns Over 10 Companies')\n",
    "plt.yticks([0,1,2,3,4],['0','1','2','3','4'])"
   ]
  },
  {
   "cell_type": "markdown",
   "metadata": {},
   "source": [
    "This model generated a negative return for 3 out of 10 companies.  Assuming that the model is equally likely to generated a positive return as a negative one, the p value for a result this extreme is about 17%.  I wouldn't be willing to put money behind a p value that large."
   ]
  },
  {
   "cell_type": "code",
   "execution_count": 3,
   "metadata": {},
   "outputs": [
    {
     "name": "stdout",
     "output_type": "stream",
     "text": [
      "[1.0029808265422187, 1.0136712219640824, 1.0023934644619243, 0.95429518887015907, 1.0073480887465025, 0.95766326874236651, 0.98447557632971405, 0.97014569491530667, 1.0043166218187782, 0.98644144058665639]\n",
      "-0.0116268607022\n"
     ]
    }
   ],
   "source": [
    "from sklearn.ensemble import RandomForestClassifier\n",
    "histread = []\n",
    "for i in range(10):\n",
    "    test1 = deepcopy(data[i])\n",
    "    lc1 = deepcopy(test1['logC'])\n",
    "    #date = deepcopy(test['DateTime'])\n",
    "    del test1['TradedVolume']\n",
    "    del test1['NumberOfTrades']\n",
    "    del test1['EndPrice']\n",
    "    del test1['logC']\n",
    "    del test1['logEP']\n",
    "    del test1['logMax']\n",
    "    del test1['logMin']\n",
    "    del test1['deLogMax']\n",
    "    del test1['deLogMin']\n",
    "    del test1['deLogSP']\n",
    "    del test1['deLogEP']\n",
    "    del test1['DateTime']\n",
    "    del test1['Mnemonic']\n",
    "    del test1['MaxPrice']\n",
    "    del test1['MinPrice']\n",
    "    y1 = [x>0 for x in lc1]\n",
    "    trainX1 = test1[:7160]\n",
    "    trainy1 = y1[:7160]\n",
    "    testX1 = test1[7160:]\n",
    "    testy1 = y1[7160:]\n",
    "    monkey0 = RandomForestClassifier(n_estimators = 20, random_state = 666)\n",
    "    monkey0.fit(trainX1,trainy1)\n",
    "    preds0 = monkey0.predict(testX1)\n",
    "    predprobs0 = monkey0.predict_proba(testX1)\n",
    "    threshold = .0005\n",
    "    tc1 = lc1[7160:].tolist()\n",
    "    cum = 0\n",
    "    counter = 0\n",
    "    for i in range(len(tc1)):\n",
    "        if predprobs0[i][1]-predprobs0[i][0]>threshold:\n",
    "            cum+=tc1[i]\n",
    "            counter +=1\n",
    "    histread.append(np.exp(cum))\n",
    "print(histread)\n",
    "grax = deepcopy(histread)\n",
    "print(sum(histread)/len(histread) - 1)"
   ]
  },
  {
   "cell_type": "code",
   "execution_count": 9,
   "metadata": {},
   "outputs": [
    {
     "name": "stdout",
     "output_type": "stream",
     "text": [
      "[1.0029808265422187, 1.0136712219640824, 1.0023934644619243, 0.95429518887015907, 1.0073480887465025, 0.95766326874236651, 0.98447557632971405, 0.97014569491530667, 1.0043166218187782, 0.98644144058665639]\n"
     ]
    }
   ],
   "source": [
    "sum(histread)"
   ]
  },
  {
   "cell_type": "markdown",
   "metadata": {},
   "source": [
    "Let's check out the annualized return of the random forest predictor."
   ]
  },
  {
   "cell_type": "code",
   "execution_count": 16,
   "metadata": {},
   "outputs": [
    {
     "data": {
      "text/plain": [
       "-0.37362074157679559"
      ]
     },
     "execution_count": 16,
     "metadata": {},
     "output_type": "execute_result"
    }
   ],
   "source": [
    "((sum(grax)/len(grax))**10)**4 - 1"
   ]
  },
  {
   "cell_type": "code",
   "execution_count": 11,
   "metadata": {},
   "outputs": [
    {
     "data": {
      "text/plain": [
       "([<matplotlib.axis.YTick at 0x1a29d63ba8>,\n",
       "  <matplotlib.axis.YTick at 0x1a29d637b8>,\n",
       "  <matplotlib.axis.YTick at 0x1a29d7a0f0>,\n",
       "  <matplotlib.axis.YTick at 0x1a29e00320>,\n",
       "  <matplotlib.axis.YTick at 0x1a29e00978>,\n",
       "  <matplotlib.axis.YTick at 0x1a29e00fd0>],\n",
       " <a list of 6 Text yticklabel objects>)"
      ]
     },
     "execution_count": 11,
     "metadata": {},
     "output_type": "execute_result"
    },
    {
     "data": {
      "image/png": "[encoded data removed]",
      "text/plain": [
       "<matplotlib.figure.Figure at 0x1a29cd6d30>"
      ]
     },
     "metadata": {},
     "output_type": "display_data"
    }
   ],
   "source": [
    "import matplotlib.pyplot as plt\n",
    "%matplotlib inline\n",
    "histread = [100*(x-1) for x in grax]\n",
    "plt.hist(histread, bins = [-5,0,5])\n",
    "plt.ylabel('Number of Companies')\n",
    "plt.xlabel('6 Day Percentage Gain')\n",
    "plt.title('Random Forest Returns Over 10 Companies')\n",
    "plt.yticks([0,1,2,3,4,5],['0','1','2','3','4','5'])"
   ]
  },
  {
   "cell_type": "markdown",
   "metadata": {},
   "source": [
    "This predictor got negative returns for exactly half of the companies.  Exactly what we'd expect from random guessing."
   ]
  }
 ],
 "metadata": {
  "kernelspec": {
   "display_name": "Python 3",
   "language": "python",
   "name": "python3"
  },
  "language_info": {
   "codemirror_mode": {
    "name": "ipython",
    "version": 3
   },
   "file_extension": ".py",
   "mimetype": "text/x-python",
   "name": "python",
   "nbconvert_exporter": "python",
   "pygments_lexer": "ipython3",
   "version": "3.6.3"
  }
 },
 "nbformat": 4,
 "nbformat_minor": 2
}
