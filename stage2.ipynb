{
 "cells": [
  {
   "cell_type": "code",
   "execution_count": 1,
   "metadata": {
    "collapsed": true
   },
   "outputs": [],
   "source": [
    "import pickle\n",
    "import pandas as pd\n",
    "import numpy as np"
   ]
  },
  {
   "cell_type": "code",
   "execution_count": 2,
   "metadata": {
    "collapsed": true
   },
   "outputs": [],
   "source": [
    "with open('check1.pkl','rb') as picklefile:\n",
    "    data = pickle.load(picklefile)"
   ]
  },
  {
   "cell_type": "code",
   "execution_count": 3,
   "metadata": {},
   "outputs": [
    {
     "data": {
      "text/html": [
       "<div>\n",
       "<style>\n",
       "    .dataframe thead tr:only-child th {\n",
       "        text-align: right;\n",
       "    }\n",
       "\n",
       "    .dataframe thead th {\n",
       "        text-align: left;\n",
       "    }\n",
       "\n",
       "    .dataframe tbody tr th {\n",
       "        vertical-align: top;\n",
       "    }\n",
       "</style>\n",
       "<table border=\"1\" class=\"dataframe\">\n",
       "  <thead>\n",
       "    <tr style=\"text-align: right;\">\n",
       "      <th></th>\n",
       "      <th>index</th>\n",
       "      <th>Mnemonic</th>\n",
       "      <th>StartPrice</th>\n",
       "      <th>MaxPrice</th>\n",
       "      <th>MinPrice</th>\n",
       "      <th>EndPrice</th>\n",
       "      <th>TradedVolume</th>\n",
       "      <th>NumberOfTrades</th>\n",
       "      <th>DateTime</th>\n",
       "    </tr>\n",
       "  </thead>\n",
       "  <tbody>\n",
       "    <tr>\n",
       "      <th>0</th>\n",
       "      <td>6</td>\n",
       "      <td>BAS</td>\n",
       "      <td>94.770</td>\n",
       "      <td>94.830</td>\n",
       "      <td>94.75</td>\n",
       "      <td>94.750</td>\n",
       "      <td>7676</td>\n",
       "      <td>49</td>\n",
       "      <td>2018-02-01 08:00:00</td>\n",
       "    </tr>\n",
       "    <tr>\n",
       "      <th>1</th>\n",
       "      <td>7</td>\n",
       "      <td>BAYN</td>\n",
       "      <td>105.920</td>\n",
       "      <td>105.960</td>\n",
       "      <td>105.84</td>\n",
       "      <td>105.860</td>\n",
       "      <td>6706</td>\n",
       "      <td>32</td>\n",
       "      <td>2018-02-01 08:00:00</td>\n",
       "    </tr>\n",
       "    <tr>\n",
       "      <th>2</th>\n",
       "      <td>9</td>\n",
       "      <td>EOAN</td>\n",
       "      <td>8.517</td>\n",
       "      <td>8.517</td>\n",
       "      <td>8.50</td>\n",
       "      <td>8.505</td>\n",
       "      <td>11232</td>\n",
       "      <td>13</td>\n",
       "      <td>2018-02-01 08:00:00</td>\n",
       "    </tr>\n",
       "    <tr>\n",
       "      <th>3</th>\n",
       "      <td>15</td>\n",
       "      <td>BMW</td>\n",
       "      <td>92.360</td>\n",
       "      <td>92.360</td>\n",
       "      <td>91.93</td>\n",
       "      <td>91.930</td>\n",
       "      <td>14755</td>\n",
       "      <td>80</td>\n",
       "      <td>2018-02-01 08:00:00</td>\n",
       "    </tr>\n",
       "    <tr>\n",
       "      <th>4</th>\n",
       "      <td>40</td>\n",
       "      <td>SAP</td>\n",
       "      <td>91.510</td>\n",
       "      <td>91.550</td>\n",
       "      <td>91.43</td>\n",
       "      <td>91.550</td>\n",
       "      <td>7297</td>\n",
       "      <td>64</td>\n",
       "      <td>2018-02-01 08:00:00</td>\n",
       "    </tr>\n",
       "  </tbody>\n",
       "</table>\n",
       "</div>"
      ],
      "text/plain": [
       "   index Mnemonic  StartPrice  MaxPrice  MinPrice  EndPrice  TradedVolume  \\\n",
       "0      6      BAS      94.770    94.830     94.75    94.750          7676   \n",
       "1      7     BAYN     105.920   105.960    105.84   105.860          6706   \n",
       "2      9     EOAN       8.517     8.517      8.50     8.505         11232   \n",
       "3     15      BMW      92.360    92.360     91.93    91.930         14755   \n",
       "4     40      SAP      91.510    91.550     91.43    91.550          7297   \n",
       "\n",
       "   NumberOfTrades            DateTime  \n",
       "0              49 2018-02-01 08:00:00  \n",
       "1              32 2018-02-01 08:00:00  \n",
       "2              13 2018-02-01 08:00:00  \n",
       "3              80 2018-02-01 08:00:00  \n",
       "4              64 2018-02-01 08:00:00  "
      ]
     },
     "execution_count": 3,
     "metadata": {},
     "output_type": "execute_result"
    }
   ],
   "source": [
    "data.head()"
   ]
  },
  {
   "cell_type": "code",
   "execution_count": 4,
   "metadata": {
    "collapsed": true
   },
   "outputs": [],
   "source": [
    "del data['index']"
   ]
  },
  {
   "cell_type": "code",
   "execution_count": 5,
   "metadata": {},
   "outputs": [
    {
     "data": {
      "text/html": [
       "<div>\n",
       "<style>\n",
       "    .dataframe thead tr:only-child th {\n",
       "        text-align: right;\n",
       "    }\n",
       "\n",
       "    .dataframe thead th {\n",
       "        text-align: left;\n",
       "    }\n",
       "\n",
       "    .dataframe tbody tr th {\n",
       "        vertical-align: top;\n",
       "    }\n",
       "</style>\n",
       "<table border=\"1\" class=\"dataframe\">\n",
       "  <thead>\n",
       "    <tr style=\"text-align: right;\">\n",
       "      <th></th>\n",
       "      <th>Mnemonic</th>\n",
       "      <th>StartPrice</th>\n",
       "      <th>MaxPrice</th>\n",
       "      <th>MinPrice</th>\n",
       "      <th>EndPrice</th>\n",
       "      <th>TradedVolume</th>\n",
       "      <th>NumberOfTrades</th>\n",
       "      <th>DateTime</th>\n",
       "    </tr>\n",
       "  </thead>\n",
       "  <tbody>\n",
       "    <tr>\n",
       "      <th>0</th>\n",
       "      <td>BAS</td>\n",
       "      <td>94.770</td>\n",
       "      <td>94.830</td>\n",
       "      <td>94.75</td>\n",
       "      <td>94.750</td>\n",
       "      <td>7676</td>\n",
       "      <td>49</td>\n",
       "      <td>2018-02-01 08:00:00</td>\n",
       "    </tr>\n",
       "    <tr>\n",
       "      <th>1</th>\n",
       "      <td>BAYN</td>\n",
       "      <td>105.920</td>\n",
       "      <td>105.960</td>\n",
       "      <td>105.84</td>\n",
       "      <td>105.860</td>\n",
       "      <td>6706</td>\n",
       "      <td>32</td>\n",
       "      <td>2018-02-01 08:00:00</td>\n",
       "    </tr>\n",
       "    <tr>\n",
       "      <th>2</th>\n",
       "      <td>EOAN</td>\n",
       "      <td>8.517</td>\n",
       "      <td>8.517</td>\n",
       "      <td>8.50</td>\n",
       "      <td>8.505</td>\n",
       "      <td>11232</td>\n",
       "      <td>13</td>\n",
       "      <td>2018-02-01 08:00:00</td>\n",
       "    </tr>\n",
       "    <tr>\n",
       "      <th>3</th>\n",
       "      <td>BMW</td>\n",
       "      <td>92.360</td>\n",
       "      <td>92.360</td>\n",
       "      <td>91.93</td>\n",
       "      <td>91.930</td>\n",
       "      <td>14755</td>\n",
       "      <td>80</td>\n",
       "      <td>2018-02-01 08:00:00</td>\n",
       "    </tr>\n",
       "    <tr>\n",
       "      <th>4</th>\n",
       "      <td>SAP</td>\n",
       "      <td>91.510</td>\n",
       "      <td>91.550</td>\n",
       "      <td>91.43</td>\n",
       "      <td>91.550</td>\n",
       "      <td>7297</td>\n",
       "      <td>64</td>\n",
       "      <td>2018-02-01 08:00:00</td>\n",
       "    </tr>\n",
       "  </tbody>\n",
       "</table>\n",
       "</div>"
      ],
      "text/plain": [
       "  Mnemonic  StartPrice  MaxPrice  MinPrice  EndPrice  TradedVolume  \\\n",
       "0      BAS      94.770    94.830     94.75    94.750          7676   \n",
       "1     BAYN     105.920   105.960    105.84   105.860          6706   \n",
       "2     EOAN       8.517     8.517      8.50     8.505         11232   \n",
       "3      BMW      92.360    92.360     91.93    91.930         14755   \n",
       "4      SAP      91.510    91.550     91.43    91.550          7297   \n",
       "\n",
       "   NumberOfTrades            DateTime  \n",
       "0              49 2018-02-01 08:00:00  \n",
       "1              32 2018-02-01 08:00:00  \n",
       "2              13 2018-02-01 08:00:00  \n",
       "3              80 2018-02-01 08:00:00  \n",
       "4              64 2018-02-01 08:00:00  "
      ]
     },
     "execution_count": 5,
     "metadata": {},
     "output_type": "execute_result"
    }
   ],
   "source": [
    "data.head()"
   ]
  },
  {
   "cell_type": "code",
   "execution_count": 6,
   "metadata": {},
   "outputs": [
    {
     "data": {
      "text/plain": [
       "array(['BAS', 'BAYN', 'EOAN', 'BMW', 'SAP', 'VOW3', 'ALV', 'DBK', 'DAI',\n",
       "       'SIE'], dtype=object)"
      ]
     },
     "execution_count": 6,
     "metadata": {},
     "output_type": "execute_result"
    }
   ],
   "source": [
    "data.Mnemonic.unique()"
   ]
  },
  {
   "cell_type": "code",
   "execution_count": 7,
   "metadata": {
    "collapsed": true
   },
   "outputs": [],
   "source": [
    "dfs = []\n",
    "for i in data.Mnemonic.unique():\n",
    "    dfs.append(data[data.Mnemonic==i])"
   ]
  },
  {
   "cell_type": "code",
   "execution_count": 8,
   "metadata": {},
   "outputs": [
    {
     "data": {
      "text/html": [
       "<div>\n",
       "<style>\n",
       "    .dataframe thead tr:only-child th {\n",
       "        text-align: right;\n",
       "    }\n",
       "\n",
       "    .dataframe thead th {\n",
       "        text-align: left;\n",
       "    }\n",
       "\n",
       "    .dataframe tbody tr th {\n",
       "        vertical-align: top;\n",
       "    }\n",
       "</style>\n",
       "<table border=\"1\" class=\"dataframe\">\n",
       "  <thead>\n",
       "    <tr style=\"text-align: right;\">\n",
       "      <th></th>\n",
       "      <th>Mnemonic</th>\n",
       "      <th>StartPrice</th>\n",
       "      <th>MaxPrice</th>\n",
       "      <th>MinPrice</th>\n",
       "      <th>EndPrice</th>\n",
       "      <th>TradedVolume</th>\n",
       "      <th>NumberOfTrades</th>\n",
       "      <th>DateTime</th>\n",
       "    </tr>\n",
       "  </thead>\n",
       "  <tbody>\n",
       "    <tr>\n",
       "      <th>0</th>\n",
       "      <td>BAS</td>\n",
       "      <td>94.77</td>\n",
       "      <td>94.83</td>\n",
       "      <td>94.75</td>\n",
       "      <td>94.75</td>\n",
       "      <td>7676</td>\n",
       "      <td>49</td>\n",
       "      <td>2018-02-01 08:00:00</td>\n",
       "    </tr>\n",
       "    <tr>\n",
       "      <th>7</th>\n",
       "      <td>BAS</td>\n",
       "      <td>94.70</td>\n",
       "      <td>94.70</td>\n",
       "      <td>94.59</td>\n",
       "      <td>94.59</td>\n",
       "      <td>1935</td>\n",
       "      <td>17</td>\n",
       "      <td>2018-02-01 08:01:00</td>\n",
       "    </tr>\n",
       "    <tr>\n",
       "      <th>14</th>\n",
       "      <td>BAS</td>\n",
       "      <td>94.63</td>\n",
       "      <td>94.75</td>\n",
       "      <td>94.61</td>\n",
       "      <td>94.75</td>\n",
       "      <td>5429</td>\n",
       "      <td>31</td>\n",
       "      <td>2018-02-01 08:02:00</td>\n",
       "    </tr>\n",
       "    <tr>\n",
       "      <th>24</th>\n",
       "      <td>BAS</td>\n",
       "      <td>94.76</td>\n",
       "      <td>94.77</td>\n",
       "      <td>94.69</td>\n",
       "      <td>94.73</td>\n",
       "      <td>3582</td>\n",
       "      <td>44</td>\n",
       "      <td>2018-02-01 08:03:00</td>\n",
       "    </tr>\n",
       "    <tr>\n",
       "      <th>34</th>\n",
       "      <td>BAS</td>\n",
       "      <td>94.71</td>\n",
       "      <td>94.72</td>\n",
       "      <td>94.66</td>\n",
       "      <td>94.69</td>\n",
       "      <td>8392</td>\n",
       "      <td>46</td>\n",
       "      <td>2018-02-01 08:04:00</td>\n",
       "    </tr>\n",
       "  </tbody>\n",
       "</table>\n",
       "</div>"
      ],
      "text/plain": [
       "   Mnemonic  StartPrice  MaxPrice  MinPrice  EndPrice  TradedVolume  \\\n",
       "0       BAS       94.77     94.83     94.75     94.75          7676   \n",
       "7       BAS       94.70     94.70     94.59     94.59          1935   \n",
       "14      BAS       94.63     94.75     94.61     94.75          5429   \n",
       "24      BAS       94.76     94.77     94.69     94.73          3582   \n",
       "34      BAS       94.71     94.72     94.66     94.69          8392   \n",
       "\n",
       "    NumberOfTrades            DateTime  \n",
       "0               49 2018-02-01 08:00:00  \n",
       "7               17 2018-02-01 08:01:00  \n",
       "14              31 2018-02-01 08:02:00  \n",
       "24              44 2018-02-01 08:03:00  \n",
       "34              46 2018-02-01 08:04:00  "
      ]
     },
     "execution_count": 8,
     "metadata": {},
     "output_type": "execute_result"
    }
   ],
   "source": [
    "dfs[0].head()"
   ]
  },
  {
   "cell_type": "code",
   "execution_count": 9,
   "metadata": {},
   "outputs": [
    {
     "data": {
      "text/html": [
       "<div>\n",
       "<style>\n",
       "    .dataframe thead tr:only-child th {\n",
       "        text-align: right;\n",
       "    }\n",
       "\n",
       "    .dataframe thead th {\n",
       "        text-align: left;\n",
       "    }\n",
       "\n",
       "    .dataframe tbody tr th {\n",
       "        vertical-align: top;\n",
       "    }\n",
       "</style>\n",
       "<table border=\"1\" class=\"dataframe\">\n",
       "  <thead>\n",
       "    <tr style=\"text-align: right;\">\n",
       "      <th></th>\n",
       "      <th>index</th>\n",
       "      <th>Mnemonic</th>\n",
       "      <th>StartPrice</th>\n",
       "      <th>MaxPrice</th>\n",
       "      <th>MinPrice</th>\n",
       "      <th>EndPrice</th>\n",
       "      <th>TradedVolume</th>\n",
       "      <th>NumberOfTrades</th>\n",
       "      <th>DateTime</th>\n",
       "    </tr>\n",
       "  </thead>\n",
       "  <tbody>\n",
       "    <tr>\n",
       "      <th>0</th>\n",
       "      <td>0</td>\n",
       "      <td>BAS</td>\n",
       "      <td>94.77</td>\n",
       "      <td>94.83</td>\n",
       "      <td>94.75</td>\n",
       "      <td>94.75</td>\n",
       "      <td>7676</td>\n",
       "      <td>49</td>\n",
       "      <td>2018-02-01 08:00:00</td>\n",
       "    </tr>\n",
       "    <tr>\n",
       "      <th>1</th>\n",
       "      <td>7</td>\n",
       "      <td>BAS</td>\n",
       "      <td>94.70</td>\n",
       "      <td>94.70</td>\n",
       "      <td>94.59</td>\n",
       "      <td>94.59</td>\n",
       "      <td>1935</td>\n",
       "      <td>17</td>\n",
       "      <td>2018-02-01 08:01:00</td>\n",
       "    </tr>\n",
       "    <tr>\n",
       "      <th>2</th>\n",
       "      <td>14</td>\n",
       "      <td>BAS</td>\n",
       "      <td>94.63</td>\n",
       "      <td>94.75</td>\n",
       "      <td>94.61</td>\n",
       "      <td>94.75</td>\n",
       "      <td>5429</td>\n",
       "      <td>31</td>\n",
       "      <td>2018-02-01 08:02:00</td>\n",
       "    </tr>\n",
       "    <tr>\n",
       "      <th>3</th>\n",
       "      <td>24</td>\n",
       "      <td>BAS</td>\n",
       "      <td>94.76</td>\n",
       "      <td>94.77</td>\n",
       "      <td>94.69</td>\n",
       "      <td>94.73</td>\n",
       "      <td>3582</td>\n",
       "      <td>44</td>\n",
       "      <td>2018-02-01 08:03:00</td>\n",
       "    </tr>\n",
       "    <tr>\n",
       "      <th>4</th>\n",
       "      <td>34</td>\n",
       "      <td>BAS</td>\n",
       "      <td>94.71</td>\n",
       "      <td>94.72</td>\n",
       "      <td>94.66</td>\n",
       "      <td>94.69</td>\n",
       "      <td>8392</td>\n",
       "      <td>46</td>\n",
       "      <td>2018-02-01 08:04:00</td>\n",
       "    </tr>\n",
       "  </tbody>\n",
       "</table>\n",
       "</div>"
      ],
      "text/plain": [
       "   index Mnemonic  StartPrice  MaxPrice  MinPrice  EndPrice  TradedVolume  \\\n",
       "0      0      BAS       94.77     94.83     94.75     94.75          7676   \n",
       "1      7      BAS       94.70     94.70     94.59     94.59          1935   \n",
       "2     14      BAS       94.63     94.75     94.61     94.75          5429   \n",
       "3     24      BAS       94.76     94.77     94.69     94.73          3582   \n",
       "4     34      BAS       94.71     94.72     94.66     94.69          8392   \n",
       "\n",
       "   NumberOfTrades            DateTime  \n",
       "0              49 2018-02-01 08:00:00  \n",
       "1              17 2018-02-01 08:01:00  \n",
       "2              31 2018-02-01 08:02:00  \n",
       "3              44 2018-02-01 08:03:00  \n",
       "4              46 2018-02-01 08:04:00  "
      ]
     },
     "execution_count": 9,
     "metadata": {},
     "output_type": "execute_result"
    }
   ],
   "source": [
    "for i in dfs:\n",
    "    i.reset_index(inplace=True)\n",
    "dfs[0].head()"
   ]
  },
  {
   "cell_type": "code",
   "execution_count": 10,
   "metadata": {},
   "outputs": [
    {
     "name": "stdout",
     "output_type": "stream",
     "text": [
      "2018-02-01 08:00:00\n",
      "2018-02-01 08:00:00\n",
      "2018-02-01 08:00:00\n",
      "2018-02-01 08:00:00\n",
      "2018-02-01 08:00:00\n",
      "2018-02-01 08:00:00\n",
      "2018-02-01 08:00:00\n",
      "2018-02-01 08:02:00\n",
      "2018-02-01 08:02:00\n",
      "2018-02-01 08:02:00\n"
     ]
    }
   ],
   "source": [
    "for i in dfs:\n",
    "    print(min(i['DateTime']))"
   ]
  },
  {
   "cell_type": "code",
   "execution_count": 11,
   "metadata": {},
   "outputs": [
    {
     "data": {
      "text/html": [
       "<div>\n",
       "<style>\n",
       "    .dataframe thead tr:only-child th {\n",
       "        text-align: right;\n",
       "    }\n",
       "\n",
       "    .dataframe thead th {\n",
       "        text-align: left;\n",
       "    }\n",
       "\n",
       "    .dataframe tbody tr th {\n",
       "        vertical-align: top;\n",
       "    }\n",
       "</style>\n",
       "<table border=\"1\" class=\"dataframe\">\n",
       "  <thead>\n",
       "    <tr style=\"text-align: right;\">\n",
       "      <th></th>\n",
       "      <th>Mnemonic</th>\n",
       "      <th>StartPrice</th>\n",
       "      <th>MaxPrice</th>\n",
       "      <th>MinPrice</th>\n",
       "      <th>EndPrice</th>\n",
       "      <th>TradedVolume</th>\n",
       "      <th>NumberOfTrades</th>\n",
       "      <th>DateTime</th>\n",
       "    </tr>\n",
       "  </thead>\n",
       "  <tbody>\n",
       "    <tr>\n",
       "      <th>0</th>\n",
       "      <td>BAS</td>\n",
       "      <td>94.77</td>\n",
       "      <td>94.83</td>\n",
       "      <td>94.75</td>\n",
       "      <td>94.75</td>\n",
       "      <td>7676</td>\n",
       "      <td>49</td>\n",
       "      <td>2018-02-01 08:00:00</td>\n",
       "    </tr>\n",
       "    <tr>\n",
       "      <th>1</th>\n",
       "      <td>BAS</td>\n",
       "      <td>94.70</td>\n",
       "      <td>94.70</td>\n",
       "      <td>94.59</td>\n",
       "      <td>94.59</td>\n",
       "      <td>1935</td>\n",
       "      <td>17</td>\n",
       "      <td>2018-02-01 08:01:00</td>\n",
       "    </tr>\n",
       "    <tr>\n",
       "      <th>2</th>\n",
       "      <td>BAS</td>\n",
       "      <td>94.63</td>\n",
       "      <td>94.75</td>\n",
       "      <td>94.61</td>\n",
       "      <td>94.75</td>\n",
       "      <td>5429</td>\n",
       "      <td>31</td>\n",
       "      <td>2018-02-01 08:02:00</td>\n",
       "    </tr>\n",
       "    <tr>\n",
       "      <th>3</th>\n",
       "      <td>BAS</td>\n",
       "      <td>94.76</td>\n",
       "      <td>94.77</td>\n",
       "      <td>94.69</td>\n",
       "      <td>94.73</td>\n",
       "      <td>3582</td>\n",
       "      <td>44</td>\n",
       "      <td>2018-02-01 08:03:00</td>\n",
       "    </tr>\n",
       "    <tr>\n",
       "      <th>4</th>\n",
       "      <td>BAS</td>\n",
       "      <td>94.71</td>\n",
       "      <td>94.72</td>\n",
       "      <td>94.66</td>\n",
       "      <td>94.69</td>\n",
       "      <td>8392</td>\n",
       "      <td>46</td>\n",
       "      <td>2018-02-01 08:04:00</td>\n",
       "    </tr>\n",
       "  </tbody>\n",
       "</table>\n",
       "</div>"
      ],
      "text/plain": [
       "  Mnemonic  StartPrice  MaxPrice  MinPrice  EndPrice  TradedVolume  \\\n",
       "0      BAS       94.77     94.83     94.75     94.75          7676   \n",
       "1      BAS       94.70     94.70     94.59     94.59          1935   \n",
       "2      BAS       94.63     94.75     94.61     94.75          5429   \n",
       "3      BAS       94.76     94.77     94.69     94.73          3582   \n",
       "4      BAS       94.71     94.72     94.66     94.69          8392   \n",
       "\n",
       "   NumberOfTrades            DateTime  \n",
       "0              49 2018-02-01 08:00:00  \n",
       "1              17 2018-02-01 08:01:00  \n",
       "2              31 2018-02-01 08:02:00  \n",
       "3              44 2018-02-01 08:03:00  \n",
       "4              46 2018-02-01 08:04:00  "
      ]
     },
     "execution_count": 11,
     "metadata": {},
     "output_type": "execute_result"
    }
   ],
   "source": [
    "for i in dfs:\n",
    "    del i['index']\n",
    "dfs[0].head()"
   ]
  },
  {
   "cell_type": "code",
   "execution_count": 12,
   "metadata": {},
   "outputs": [
    {
     "name": "stdout",
     "output_type": "stream",
     "text": [
      "0\n"
     ]
    }
   ],
   "source": [
    "allTimes = sorted(data.DateTime.unique())\n",
    "q = 0\n",
    "for i in dfs:\n",
    "    for j in allTimes:\n",
    "        if j in i['DateTime'] and len(i[i.DateTime==j])>1:\n",
    "            print('DANGER')\n",
    "            q = 1\n",
    "print(q)"
   ]
  },
  {
   "cell_type": "markdown",
   "metadata": {},
   "source": [
    "In this cell, we're going to fill in the missing values.  I'm assuming that if a data point doesn't exist for a given company for a given time, that company's stock was not traded during that time, so its price should be held constant."
   ]
  },
  {
   "cell_type": "code",
   "execution_count": 13,
   "metadata": {},
   "outputs": [
    {
     "name": "stdout",
     "output_type": "stream",
     "text": [
      "  Mnemonic  StartPrice  MaxPrice  MinPrice  EndPrice  TradedVolume  \\\n",
      "0      BAS       94.77     94.83     94.75     94.75          7676   \n",
      "\n",
      "   NumberOfTrades            DateTime  \n",
      "0              49 2018-02-01 08:00:00  \n",
      "10056\n",
      "  Mnemonic  StartPrice  MaxPrice  MinPrice  EndPrice  TradedVolume  \\\n",
      "0     BAYN      105.92    105.96    105.84    105.86          6706   \n",
      "\n",
      "   NumberOfTrades            DateTime  \n",
      "0              32 2018-02-01 08:00:00  \n",
      "10056\n",
      "  Mnemonic  StartPrice  MaxPrice  MinPrice  EndPrice  TradedVolume  \\\n",
      "0     EOAN       8.517     8.517       8.5     8.505         11232   \n",
      "\n",
      "   NumberOfTrades            DateTime  \n",
      "0              13 2018-02-01 08:00:00  \n",
      "10056\n",
      "  Mnemonic  StartPrice  MaxPrice  MinPrice  EndPrice  TradedVolume  \\\n",
      "0      BMW       92.36     92.36     91.93     91.93         14755   \n",
      "\n",
      "   NumberOfTrades            DateTime  \n",
      "0              80 2018-02-01 08:00:00  \n"
     ]
    },
    {
     "ename": "KeyboardInterrupt",
     "evalue": "",
     "output_type": "error",
     "traceback": [
      "\u001b[0;31m---------------------------------------------------------------------------\u001b[0m",
      "\u001b[0;31mKeyboardInterrupt\u001b[0m                         Traceback (most recent call last)",
      "\u001b[0;32m<ipython-input-13-0203b188fee1>\u001b[0m in \u001b[0;36m<module>\u001b[0;34m()\u001b[0m\n\u001b[1;32m     11\u001b[0m     \u001b[0;32mfor\u001b[0m \u001b[0mk\u001b[0m \u001b[0;32min\u001b[0m \u001b[0mrange\u001b[0m\u001b[0;34m(\u001b[0m\u001b[0mlen\u001b[0m\u001b[0;34m(\u001b[0m\u001b[0mallTimes\u001b[0m\u001b[0;34m)\u001b[0m\u001b[0;34m)\u001b[0m\u001b[0;34m:\u001b[0m\u001b[0;34m\u001b[0m\u001b[0m\n\u001b[1;32m     12\u001b[0m         \u001b[0;32mif\u001b[0m \u001b[0mallTimes\u001b[0m\u001b[0;34m[\u001b[0m\u001b[0mk\u001b[0m\u001b[0;34m]\u001b[0m\u001b[0;34m>\u001b[0m\u001b[0mbase\u001b[0m\u001b[0;34m.\u001b[0m\u001b[0mDateTime\u001b[0m\u001b[0;34m[\u001b[0m\u001b[0;36m0\u001b[0m\u001b[0;34m]\u001b[0m\u001b[0;34m:\u001b[0m\u001b[0;34m\u001b[0m\u001b[0m\n\u001b[0;32m---> 13\u001b[0;31m             \u001b[0;32mif\u001b[0m \u001b[0mallTimes\u001b[0m\u001b[0;34m[\u001b[0m\u001b[0mk\u001b[0m\u001b[0;34m]\u001b[0m \u001b[0;32mnot\u001b[0m \u001b[0;32min\u001b[0m \u001b[0miTimes\u001b[0m\u001b[0;34m:\u001b[0m\u001b[0;34m\u001b[0m\u001b[0m\n\u001b[0m\u001b[1;32m     14\u001b[0m                 \u001b[0mdf\u001b[0m\u001b[0;34m.\u001b[0m\u001b[0mloc\u001b[0m\u001b[0;34m[\u001b[0m\u001b[0mj\u001b[0m\u001b[0;34m]\u001b[0m \u001b[0;34m=\u001b[0m \u001b[0;34m[\u001b[0m\u001b[0mbase\u001b[0m\u001b[0;34m[\u001b[0m\u001b[0;34m'Mnemonic'\u001b[0m\u001b[0;34m]\u001b[0m\u001b[0;34m[\u001b[0m\u001b[0;36m0\u001b[0m\u001b[0;34m]\u001b[0m\u001b[0;34m,\u001b[0m\u001b[0mbase\u001b[0m\u001b[0;34m[\u001b[0m\u001b[0;34m'EndPrice'\u001b[0m\u001b[0;34m]\u001b[0m\u001b[0;34m[\u001b[0m\u001b[0;36m0\u001b[0m\u001b[0;34m]\u001b[0m\u001b[0;34m,\u001b[0m\u001b[0mbase\u001b[0m\u001b[0;34m[\u001b[0m\u001b[0;34m'EndPrice'\u001b[0m\u001b[0;34m]\u001b[0m\u001b[0;34m[\u001b[0m\u001b[0;36m0\u001b[0m\u001b[0;34m]\u001b[0m\u001b[0;34m,\u001b[0m\u001b[0mbase\u001b[0m\u001b[0;34m[\u001b[0m\u001b[0;34m'EndPrice'\u001b[0m\u001b[0;34m]\u001b[0m\u001b[0;34m[\u001b[0m\u001b[0;36m0\u001b[0m\u001b[0;34m]\u001b[0m\u001b[0;34m,\u001b[0m\u001b[0mbase\u001b[0m\u001b[0;34m[\u001b[0m\u001b[0;34m'EndPrice'\u001b[0m\u001b[0;34m]\u001b[0m\u001b[0;34m[\u001b[0m\u001b[0;36m0\u001b[0m\u001b[0;34m]\u001b[0m\u001b[0;34m,\u001b[0m\u001b[0;36m0\u001b[0m\u001b[0;34m,\u001b[0m\u001b[0;36m0\u001b[0m\u001b[0;34m,\u001b[0m\u001b[0mallTimes\u001b[0m\u001b[0;34m[\u001b[0m\u001b[0mk\u001b[0m\u001b[0;34m]\u001b[0m\u001b[0;34m]\u001b[0m\u001b[0;34m\u001b[0m\u001b[0m\n\u001b[1;32m     15\u001b[0m                 \u001b[0mj\u001b[0m\u001b[0;34m+=\u001b[0m\u001b[0;36m1\u001b[0m\u001b[0;34m\u001b[0m\u001b[0m\n",
      "\u001b[0;31mKeyboardInterrupt\u001b[0m: "
     ]
    }
   ],
   "source": [
    "from copy import deepcopy\n",
    "allTimes = sorted(data['DateTime'].drop_duplicates())\n",
    "dfsnew = []\n",
    "for i in dfs:\n",
    "    df = pd.DataFrame(columns = ['Mnemonic','StartPrice','MaxPrice','MinPrice','EndPrice','TradedVolume','NumberOfTrades','DateTime'])\n",
    "    j = 0\n",
    "    base = i[i.DateTime==min(i['DateTime'])]\n",
    "    print(base)\n",
    "    base.reset_index(inplace = True)\n",
    "    iTimes = sorted(i['DateTime'].drop_duplicates())\n",
    "    for k in range(len(allTimes)):\n",
    "        if allTimes[k]>base.DateTime[0]:\n",
    "            if allTimes[k] not in iTimes:\n",
    "                df.loc[j] = [base['Mnemonic'][0],base['EndPrice'][0],base['EndPrice'][0],base['EndPrice'][0],base['EndPrice'][0],0,0,allTimes[k]]\n",
    "                j+=1\n",
    "            else:\n",
    "                base = i[i.DateTime==allTimes[k]]\n",
    "                base.reset_index(inplace = True)\n",
    "    i = pd.concat([i,df])\n",
    "    i.sort_values('DateTime',inplace=True)\n",
    "    print(len(i))\n",
    "    dfsnew.append(deepcopy(i))\n",
    "for i in dfsnew:\n",
    "    print(len(i))"
   ]
  },
  {
   "cell_type": "markdown",
   "metadata": {},
   "source": [
    "Not all companies were traded in the first few minutes of the first day, so in this cell, we'll fill in those values so that all companies have the same number of entries."
   ]
  },
  {
   "cell_type": "code",
   "execution_count": null,
   "metadata": {
    "collapsed": true
   },
   "outputs": [],
   "source": [
    "dfsnew2=[]\n",
    "allTimes = sorted(data['DateTime'].drop_duplicates())\n",
    "for i in dfsnew:\n",
    "    df = pd.DataFrame(columns = ['Mnemonic','StartPrice','MaxPrice','MinPrice','EndPrice','TradedVolume','NumberOfTrades','DateTime'])\n",
    "    j = 0\n",
    "    base = i[i.DateTime==min(i['DateTime'])]\n",
    "    print(base)\n",
    "    base.reset_index(inplace = True)\n",
    "    iTimes = sorted(i['DateTime'].drop_duplicates())\n",
    "    for k in range(len(allTimes)):\n",
    "        if allTimes[k]<base.DateTime[0]:\n",
    "                df.loc[j] = [base['Mnemonic'][0],base['StartPrice'][0],base['StartPrice'][0],base['StartPrice'][0],base['StartPrice'][0],0,0,allTimes[k]]\n",
    "                j+=1\n",
    "        else:\n",
    "            break\n",
    "    i = pd.concat([i,df])\n",
    "    i.sort_values('DateTime',inplace=True)\n",
    "    print(len(i))\n",
    "    dfsnew2.append(i)"
   ]
  },
  {
   "cell_type": "markdown",
   "metadata": {},
   "source": [
    "Now we need to fill in the missing times."
   ]
  },
  {
   "cell_type": "code",
   "execution_count": null,
   "metadata": {
    "collapsed": true
   },
   "outputs": [],
   "source": [
    "mDays = ['06','09']\n",
    "mHr = ['15']\n",
    "mMin = ['00','01','02','03','04','05','06','07','08','09'] + [str(x) for x in range(10,60)]\n",
    "MTIMES = pd.to_datetime(['201802'+x+y+z for x in mDays for y in mHr for z in mMin], format = '%Y%m%d%H%M')\n",
    "print(len(MTIMES))"
   ]
  },
  {
   "cell_type": "code",
   "execution_count": null,
   "metadata": {
    "collapsed": true
   },
   "outputs": [],
   "source": [
    "print(MTIMES[0:10])"
   ]
  },
  {
   "cell_type": "code",
   "execution_count": null,
   "metadata": {
    "collapsed": true
   },
   "outputs": [],
   "source": [
    "print(MTIMES[:60])"
   ]
  },
  {
   "cell_type": "markdown",
   "metadata": {},
   "source": [
    "In this cell, we're filling in the missing times. That there weren't files for."
   ]
  },
  {
   "cell_type": "code",
   "execution_count": null,
   "metadata": {
    "collapsed": true
   },
   "outputs": [],
   "source": [
    "dfsnew3=[]\n",
    "for i in dfsnew2:\n",
    "    flag = 0\n",
    "    print(i.head(1))\n",
    "    df = pd.DataFrame(columns = ['Mnemonic','StartPrice','MaxPrice','MinPrice','EndPrice','TradedVolume','NumberOfTrades','DateTime'])\n",
    "    iTimes = sorted(i['DateTime'].drop_duplicates())\n",
    "    print(len(iTimes))\n",
    "    if len(iTimes)!=len(i['DateTime']):\n",
    "        print('Danger! Code Blue!')\n",
    "        break\n",
    "    j = 0\n",
    "    base = i[i.DateTime==iTimes[0]]\n",
    "    base.reset_index(inplace = True)\n",
    "    u = 0\n",
    "    while(iTimes[u] < min(MTIMES)):\n",
    "        base = i[i.DateTime==iTimes[u]]\n",
    "        base.reset_index(inplace = True)\n",
    "        u+=1\n",
    "    if(len(base)>1):\n",
    "        print('Danger! Code Orange!')\n",
    "        break\n",
    "    for k in range(60):\n",
    "        if MTIMES[k] not in iTimes:\n",
    "                df.loc[j] = [base['Mnemonic'][0],base['EndPrice'][0],base['EndPrice'][0],base['EndPrice'][0],base['EndPrice'][0],0,0,MTIMES[k]]\n",
    "                j+=1\n",
    "        else:\n",
    "            print('Danger! Code Red!')\n",
    "            break\n",
    "    while(iTimes[u] < MTIMES[60]):\n",
    "        base = i[i.DateTime==iTimes[u]]\n",
    "        base.reset_index(inplace=True)\n",
    "        u+=1\n",
    "    for k in range(60,120):\n",
    "        if MTIMES[k] not in iTimes:\n",
    "            df.loc[j] = [base['Mnemonic'][0],base['EndPrice'][0],base['EndPrice'][0],base['EndPrice'][0],base['EndPrice'][0],0,0,MTIMES[k]]\n",
    "            j+=1\n",
    "        else:\n",
    "            print('Danger! Code Red Second!')\n",
    "            break\n",
    "    while(u<len(iTimes) and iTimes[u] not in MTIMES):\n",
    "        u+=1\n",
    "    if(u<len(iTimes)):\n",
    "        print('Danger! Code Purple!')\n",
    "    i = pd.concat([i,df])\n",
    "    i.sort_values('DateTime',inplace=True)\n",
    "    print(len(i))\n",
    "    dfsnew3.append(i)    "
   ]
  },
  {
   "cell_type": "code",
   "execution_count": null,
   "metadata": {
    "collapsed": true
   },
   "outputs": [],
   "source": [
    "nDays = ['01','02','05','06','07','08','09'] + [str(x) for x in range(12,17)] + [str(x) for x in range(19,24)] + ['26','27','28']\n",
    "nHr = ['08','09']+ [str(x) for x in range(10,16)]\n",
    "nHr2 = ['16']\n",
    "nMin = ['00','01','02','03','04','05','06','07','08','09'] + [str(x) for x in range(10,60)]\n",
    "nMin2 = ['0'+str(x) for x in range(10)] + [str(x) for x in range(10,31)]\n",
    "NTIMES = pd.to_datetime(['201802'+x+y+z for x in nDays for y in nHr for z in nMin], format = '%Y%m%d%H%M')\n",
    "NTIMES2 = pd.to_datetime(['201802'+x+y+z for x in nDays for y in nHr2 for z in nMin2], format = '%Y%m%d%H%M')\n",
    "NTIMES3 = NTIMES.union(NTIMES2)\n",
    "print(NTIMES3[0:10])\n",
    "print(len(NTIMES3))"
   ]
  },
  {
   "cell_type": "markdown",
   "metadata": {},
   "source": [
    "Here, we're filling in any remaining times during which a given company may not have been traded."
   ]
  },
  {
   "cell_type": "code",
   "execution_count": null,
   "metadata": {
    "collapsed": true
   },
   "outputs": [],
   "source": [
    "NTIMES3 = sorted(NTIMES3)\n",
    "dfsnew4=[]\n",
    "for i in dfsnew3:\n",
    "    df = pd.DataFrame(columns = ['Mnemonic','StartPrice','MaxPrice','MinPrice','EndPrice','TradedVolume','NumberOfTrades','DateTime'])\n",
    "    iTimes = sorted(i['DateTime'].drop_duplicates())\n",
    "    print(len(iTimes))\n",
    "    if len(iTimes)!=len(i['DateTime']):\n",
    "        print('Danger! Code Blue!')\n",
    "        break\n",
    "    j = 0\n",
    "    base = i[i.DateTime==iTimes[0]]\n",
    "    base.reset_index(inplace = True)\n",
    "    u = 0\n",
    "    while u<len(NTIMES3):\n",
    "        while(u<len(NTIMES3) and NTIMES3[u] in iTimes):\n",
    "            if(u<len(iTimes)):\n",
    "                base = i[i.DateTime==iTimes[u]]\n",
    "            else:\n",
    "                base = i[i.DateTime==iTimes[-1]]\n",
    "            if(len(base)>1):\n",
    "                print('Danger! Code Orange! Internal!')\n",
    "                print(u)\n",
    "            base.reset_index(inplace = True)\n",
    "            u+=1\n",
    "        while(u<len(NTIMES3) and NTIMES3[u] not in iTimes):\n",
    "            df.loc[j] = [base['Mnemonic'][0],base['EndPrice'][0],base['EndPrice'][0],base['EndPrice'][0],base['EndPrice'][0],0,0,NTIMES3[u]]\n",
    "            j+=1\n",
    "            u+=1\n",
    "    i = pd.concat([i,df])\n",
    "    i.sort_values('DateTime',inplace=True)\n",
    "    print(len(i))\n",
    "    dfsnew4.append(i) "
   ]
  },
  {
   "cell_type": "code",
   "execution_count": null,
   "metadata": {
    "collapsed": true
   },
   "outputs": [],
   "source": [
    "for i in dfsnew4:\n",
    "    print(len(i))"
   ]
  },
  {
   "cell_type": "code",
   "execution_count": null,
   "metadata": {
    "collapsed": true
   },
   "outputs": [],
   "source": [
    "for i in dfsnew4:\n",
    "    print(len(i['DateTime'].unique()))"
   ]
  },
  {
   "cell_type": "markdown",
   "metadata": {},
   "source": [
    "Let's look at an example price chart."
   ]
  },
  {
   "cell_type": "code",
   "execution_count": null,
   "metadata": {
    "collapsed": true
   },
   "outputs": [],
   "source": [
    "import matplotlib.pyplot as plt\n",
    "%matplotlib inline\n",
    "fig = plt.figure(figsize = (35,20))\n",
    "i = 0\n",
    "plt.plot(dfsnew4[i]['DateTime'],dfsnew4[i]['StartPrice']);"
   ]
  },
  {
   "cell_type": "code",
   "execution_count": null,
   "metadata": {
    "collapsed": true
   },
   "outputs": [],
   "source": [
    "import pickle\n",
    "with open('check2.pkl', 'wb') as picklefile:\n",
    "    pickle.dump(dfsnew4, picklefile)"
   ]
  },
  {
   "cell_type": "code",
   "execution_count": null,
   "metadata": {
    "collapsed": true
   },
   "outputs": [],
   "source": []
  }
 ],
 "metadata": {
  "kernelspec": {
   "display_name": "Python 3",
   "language": "python",
   "name": "python3"
  },
  "language_info": {
   "codemirror_mode": {
    "name": "ipython",
    "version": 3
   },
   "file_extension": ".py",
   "mimetype": "text/x-python",
   "name": "python",
   "nbconvert_exporter": "python",
   "pygments_lexer": "ipython3",
   "version": "3.6.3"
  }
 },
 "nbformat": 4,
 "nbformat_minor": 2
}
