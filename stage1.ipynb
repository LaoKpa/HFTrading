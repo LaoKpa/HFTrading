{
 "cells": [
  {
   "cell_type": "code",
   "execution_count": 1,
   "metadata": {
    "collapsed": true
   },
   "outputs": [],
   "source": [
    "import pandas as pd\n",
    "import numpy as np"
   ]
  },
  {
   "cell_type": "code",
   "execution_count": 2,
   "metadata": {
    "collapsed": true
   },
   "outputs": [],
   "source": [
    "data = pd.read_csv('2018-02-01/2018-02-01_BINS_XETR08.csv')"
   ]
  },
  {
   "cell_type": "markdown",
   "metadata": {},
   "source": [
    "We'll do some EDA on the first hour of the first day of the data set."
   ]
  },
  {
   "cell_type": "code",
   "execution_count": 4,
   "metadata": {},
   "outputs": [
    {
     "data": {
      "text/plain": [
       "Index(['ISIN', 'Mnemonic', 'SecurityDesc', 'SecurityType', 'Currency',\n",
       "       'SecurityID', 'Date', 'Time', 'StartPrice', 'MaxPrice', 'MinPrice',\n",
       "       'EndPrice', 'TradedVolume', 'NumberOfTrades'],\n",
       "      dtype='object')"
      ]
     },
     "execution_count": 4,
     "metadata": {},
     "output_type": "execute_result"
    }
   ],
   "source": [
    "data.columns"
   ]
  },
  {
   "cell_type": "code",
   "execution_count": 3,
   "metadata": {},
   "outputs": [
    {
     "name": "stdout",
     "output_type": "stream",
     "text": [
      "8856\n",
      "8856\n"
     ]
    }
   ],
   "source": [
    "print(len(data.dropna()))\n",
    "print(len(data))"
   ]
  },
  {
   "cell_type": "markdown",
   "metadata": {},
   "source": [
    "No missing values! It appears that there are no missing values.  Good, this saves us a bit of a headache."
   ]
  },
  {
   "cell_type": "code",
   "execution_count": 6,
   "metadata": {},
   "outputs": [
    {
     "data": {
      "text/plain": [
       "824"
      ]
     },
     "execution_count": 6,
     "metadata": {},
     "output_type": "execute_result"
    }
   ],
   "source": [
    "len(data.ISIN.unique())"
   ]
  },
  {
   "cell_type": "code",
   "execution_count": 7,
   "metadata": {},
   "outputs": [
    {
     "data": {
      "text/plain": [
       "824"
      ]
     },
     "execution_count": 7,
     "metadata": {},
     "output_type": "execute_result"
    }
   ],
   "source": [
    "len(data.Mnemonic.unique())"
   ]
  },
  {
   "cell_type": "code",
   "execution_count": 42,
   "metadata": {},
   "outputs": [
    {
     "data": {
      "text/plain": [
       "819"
      ]
     },
     "execution_count": 42,
     "metadata": {},
     "output_type": "execute_result"
    }
   ],
   "source": [
    "len(data.SecurityDesc.unique())"
   ]
  },
  {
   "cell_type": "code",
   "execution_count": 45,
   "metadata": {},
   "outputs": [
    {
     "data": {
      "text/plain": [
       "824"
      ]
     },
     "execution_count": 45,
     "metadata": {},
     "output_type": "execute_result"
    }
   ],
   "source": [
    "len(data.SecurityID.unique())"
   ]
  },
  {
   "cell_type": "markdown",
   "metadata": {},
   "source": [
    "Given how close the number of unique values are for each of these features, I suspect we can delete some.  Let's check."
   ]
  },
  {
   "cell_type": "code",
   "execution_count": 4,
   "metadata": {},
   "outputs": [
    {
     "name": "stdout",
     "output_type": "stream",
     "text": [
      "all good! delete one of them!\n"
     ]
    }
   ],
   "source": [
    "from collections import defaultdict as dd\n",
    "d = dd(lambda:[])\n",
    "e = dd(lambda:[])\n",
    "count = 0\n",
    "failure = 0\n",
    "for i,j in zip(data['ISIN'],data['Mnemonic']):\n",
    "    if i not in d[j]:\n",
    "        d[j].append(i)\n",
    "    if len(d[j])>1:\n",
    "        print('failure')\n",
    "        failure = 1\n",
    "        break\n",
    "if failure==0:\n",
    "    for i,j in zip(data['ISIN'],data['Mnemonic']):\n",
    "        if j not in e[i]:\n",
    "            e[i].append(j)\n",
    "        if len(e[i])>1:\n",
    "            print('failure')\n",
    "            failure = 1\n",
    "            break\n",
    "if failure==0:\n",
    "    print('all good! delete one of them!')"
   ]
  },
  {
   "cell_type": "code",
   "execution_count": 5,
   "metadata": {
    "collapsed": true
   },
   "outputs": [],
   "source": [
    "del data['ISIN']"
   ]
  },
  {
   "cell_type": "code",
   "execution_count": 6,
   "metadata": {},
   "outputs": [
    {
     "name": "stdout",
     "output_type": "stream",
     "text": [
      "all good! delete one of them!\n"
     ]
    }
   ],
   "source": [
    "e = dd(lambda:[])\n",
    "f = dd(lambda:[])\n",
    "count = 0\n",
    "failure = 0\n",
    "for i,j in zip(data['SecurityID'],data['Mnemonic']):\n",
    "    if i not in e[j]:\n",
    "        e[j].append(i)\n",
    "    if len(e[j])>1:\n",
    "        print('failure')\n",
    "        failure = 1\n",
    "        break\n",
    "if failure==0:\n",
    "    for i,j in zip(data['SecurityID'],data['Mnemonic']):\n",
    "        if j not in f[i]:\n",
    "            f[i].append(j)\n",
    "        if len(f[i])>1:\n",
    "            print('failure')\n",
    "            failure = 1\n",
    "            break\n",
    "if failure==0:\n",
    "    print('all good! delete one of them!')"
   ]
  },
  {
   "cell_type": "code",
   "execution_count": 7,
   "metadata": {
    "collapsed": true
   },
   "outputs": [],
   "source": [
    "del data['SecurityID']"
   ]
  },
  {
   "cell_type": "markdown",
   "metadata": {},
   "source": [
    "Security descriptions are not quite one to one and onto. Let's investigate"
   ]
  },
  {
   "cell_type": "code",
   "execution_count": 8,
   "metadata": {},
   "outputs": [
    {
     "name": "stdout",
     "output_type": "stream",
     "text": [
      "COMMERZBANK ETC UNL.: X0D2, X0C1,  \n",
      "COMMERZBANK ETC UNL.: X0D2, X0C1, X005,  \n",
      "COMMERZBANK ETC UNL.: X0D2, X0C1, X005, X0C5,  \n",
      "COMMERZBANK ETC UNL.: X0D2, X0C1, X005, X0C5, X001,  \n",
      "ETFS COM.SEC.DZ08/UN.IDX: 4RUD, 4RUH,  \n",
      "COMMERZBANK ETC UNL.: X0D2, X0C1, X005, X0C5, X001,  \n",
      "COMMERZBANK ETC UNL.: X0D2, X0C1, X005, X0C5, X001,  \n",
      "COMMERZBANK ETC UNL.: X0D2, X0C1, X005, X0C5, X001,  \n",
      "ETFS COM.SEC.DZ08/UN.IDX: 4RUD, 4RUH,  \n",
      "ETFS COM.SEC.DZ08/UN.IDX: 4RUD, 4RUH,  \n",
      "COMMERZBANK ETC UNL.: X0D2, X0C1, X005, X0C5, X001,  \n"
     ]
    }
   ],
   "source": [
    "f = dd(lambda:[])\n",
    "g = dd(lambda:[])\n",
    "count = 0\n",
    "failure = 0\n",
    "for i,j in zip(data['SecurityDesc'],data['Mnemonic']):\n",
    "    if i not in f[j]:\n",
    "        f[j].append(i)\n",
    "    if len(f[j])>1:\n",
    "        print('failure')\n",
    "        failure = 1\n",
    "        break\n",
    "if failure==0:\n",
    "    for i,j in zip(data['SecurityDesc'],data['Mnemonic']):\n",
    "        if j not in g[i]:\n",
    "            g[i].append(j)\n",
    "        if len(g[i])>1:\n",
    "            print(i, end = ': ')\n",
    "            for k in g[i]:\n",
    "                print(k, end = ', ')\n",
    "            print(' ')"
   ]
  },
  {
   "cell_type": "markdown",
   "metadata": {},
   "source": [
    "Security Description doesn't seem to be differentiating anything all that much.  Let's go ahead and delete that too."
   ]
  },
  {
   "cell_type": "code",
   "execution_count": 9,
   "metadata": {
    "collapsed": true
   },
   "outputs": [],
   "source": [
    "del data['SecurityDesc']"
   ]
  },
  {
   "cell_type": "code",
   "execution_count": 87,
   "metadata": {},
   "outputs": [
    {
     "data": {
      "text/plain": [
       "15"
      ]
     },
     "execution_count": 87,
     "metadata": {},
     "output_type": "execute_result"
    },
    {
     "data": {
      "image/png": "[encoded data removed]",
      "text/plain": [
       "<matplotlib.figure.Figure at 0x103ec1cc0>"
      ]
     },
     "metadata": {},
     "output_type": "display_data"
    }
   ],
   "source": [
    "import matplotlib.pyplot as plt\n",
    "%matplotlib inline\n",
    "plt.hist(data.groupby('Mnemonic').count()['NumberOfTrades'])\n",
    "len(data.groupby('Mnemonic').count()['NumberOfTrades'][data.groupby('Mnemonic').count().NumberOfTrades > 59])"
   ]
  },
  {
   "cell_type": "markdown",
   "metadata": {},
   "source": [
    "It looks like only 15 securities were traded every minute of this hour.  If our goal is to build a high frequency trading engine, we'll want to focus on securities that are traded frequently.  Before we go and subset the data, though, let's look at the activity of the other hours and other days in this month."
   ]
  },
  {
   "cell_type": "code",
   "execution_count": 10,
   "metadata": {
    "collapsed": true
   },
   "outputs": [],
   "source": [
    "mens = []\n",
    "for i in data.Mnemonic.unique():\n",
    "    if len(data[data.Mnemonic==i])>59:\n",
    "        mens.append(i)"
   ]
  },
  {
   "cell_type": "code",
   "execution_count": 11,
   "metadata": {
    "collapsed": true
   },
   "outputs": [],
   "source": [
    "subed = data[[x in mens for x in data.Mnemonic]]"
   ]
  },
  {
   "cell_type": "code",
   "execution_count": 12,
   "metadata": {},
   "outputs": [
    {
     "data": {
      "text/plain": [
       "array(['Common stock'], dtype=object)"
      ]
     },
     "execution_count": 12,
     "metadata": {},
     "output_type": "execute_result"
    }
   ],
   "source": [
    "subed.SecurityType.unique()"
   ]
  },
  {
   "cell_type": "markdown",
   "metadata": {},
   "source": [
    "Among frequently traded securities, the security type appears to be unique, so keeping this data field is unnecessary."
   ]
  },
  {
   "cell_type": "code",
   "execution_count": 13,
   "metadata": {
    "collapsed": true
   },
   "outputs": [],
   "source": [
    "del subed['SecurityType']"
   ]
  },
  {
   "cell_type": "code",
   "execution_count": 14,
   "metadata": {},
   "outputs": [
    {
     "data": {
      "text/plain": [
       "array(['EUR'], dtype=object)"
      ]
     },
     "execution_count": 14,
     "metadata": {},
     "output_type": "execute_result"
    }
   ],
   "source": [
    "subed.Currency.unique()"
   ]
  },
  {
   "cell_type": "markdown",
   "metadata": {},
   "source": [
    "Same logic with the Currency."
   ]
  },
  {
   "cell_type": "code",
   "execution_count": 97,
   "metadata": {
    "collapsed": true
   },
   "outputs": [],
   "source": [
    "del subed['Currency']"
   ]
  },
  {
   "cell_type": "code",
   "execution_count": 99,
   "metadata": {},
   "outputs": [
    {
     "data": {
      "text/plain": [
       "900"
      ]
     },
     "execution_count": 99,
     "metadata": {},
     "output_type": "execute_result"
    }
   ],
   "source": [
    "len(subed)"
   ]
  },
  {
   "cell_type": "code",
   "execution_count": 38,
   "metadata": {},
   "outputs": [
    {
     "data": {
      "text/plain": [
       "array(['16:00', '16:01', '16:02', '16:03', '16:04', '16:05', '16:06',\n",
       "       '16:07', '16:08', '16:09', '16:10', '16:11', '16:12', '16:13',\n",
       "       '16:14', '16:15', '16:16', '16:17', '16:18', '16:19', '16:20',\n",
       "       '16:21', '16:22', '16:23', '16:24', '16:25', '16:26', '16:27',\n",
       "       '16:28', '16:29', '16:30'], dtype=object)"
      ]
     },
     "execution_count": 38,
     "metadata": {},
     "output_type": "execute_result"
    }
   ],
   "source": [
    "lht = pd.read_csv('2018-02-01/2018-02-01_BINS_XETR16.csv')\n",
    "lht.Time.unique()"
   ]
  },
  {
   "cell_type": "markdown",
   "metadata": {},
   "source": [
    "Looks like the trading day ends at 4:30, so hour 16 only has 31 minutes."
   ]
  },
  {
   "cell_type": "markdown",
   "metadata": {},
   "source": [
    "Ok, now let's try it with all of the data."
   ]
  },
  {
   "cell_type": "code",
   "execution_count": 2,
   "metadata": {},
   "outputs": [
    {
     "name": "stdout",
     "output_type": "stream",
     "text": [
      "day 06 hour 15 is missing\n",
      "day 09 hour 15 is missing\n"
     ]
    }
   ],
   "source": [
    "import pandas as pd\n",
    "import numpy as np\n",
    "days = ['01','02','05','06','07','08','09','12','13','14','15','16','19','20','21','22','23','26','27','28']\n",
    "hours = ['08','09','10','11','12','13','14','15','16']\n",
    "dfs = []\n",
    "for i in days:\n",
    "    for j in hours:\n",
    "        fpath = '2018-02-' + i + '/2018-02-' + i + '_BINS_XETR' + j + '.csv'\n",
    "        try:\n",
    "            dfs.append(pd.read_csv(fpath))\n",
    "        except:\n",
    "            print('day ' + i + ' hour ' + j + ' is missing')\n",
    "            continue\n",
    "data = pd.concat(dfs)"
   ]
  },
  {
   "cell_type": "markdown",
   "metadata": {},
   "source": [
    "It looks like no trading happened from 3-4 pm on February 6th and 9th, 2018.  We'll have to keep this in mind for later."
   ]
  },
  {
   "cell_type": "markdown",
   "metadata": {},
   "source": [
    "Let's see if we can delete ISIN and Security ID fields "
   ]
  },
  {
   "cell_type": "code",
   "execution_count": 3,
   "metadata": {},
   "outputs": [
    {
     "name": "stdout",
     "output_type": "stream",
     "text": [
      "GC40\n",
      "['FR0007080973', 'LU1681046931']\n",
      " \n",
      "18MM\n",
      "['FR0010713669', 'LU1602144906']\n",
      " \n",
      "V50A\n",
      "['FR0010654913', 'LU1681047236']\n",
      " \n",
      "LWCR\n",
      "['FR0012657963', 'LU1602144229']\n",
      " \n",
      "SM8T\n",
      "['FR0011829084', 'LU1602145119']\n",
      " \n",
      "AMED\n",
      "['FR0010655688', 'LU1602144575']\n",
      " \n",
      "J1GR\n",
      "['FR0010688242', 'LU1602144732']\n",
      " \n",
      " \n",
      "True\n",
      "GC40\n",
      "[2505191, 2993648]\n",
      " \n",
      "18MM\n",
      "[2505268, 2993646]\n",
      " \n",
      "V50A\n",
      "[2506388, 2993649]\n",
      " \n",
      "LWCR\n",
      "[2505340, 2993643]\n",
      " \n",
      "SM8T\n",
      "[2505332, 2993647]\n",
      " \n",
      "AMED\n",
      "[2505251, 2993644]\n",
      " \n",
      "J1GR\n",
      "[2505266, 2993645]\n",
      " \n",
      " \n",
      "True\n"
     ]
    }
   ],
   "source": [
    "from collections import defaultdict as dd\n",
    "delfields = ['ISIN', 'SecurityID']\n",
    "for k in delfields:\n",
    "    d = dd(lambda:[])\n",
    "    e = dd(lambda:[])\n",
    "    count = 0\n",
    "    failure = 0\n",
    "    for i,j in zip(data[k],data['Mnemonic']):\n",
    "        if i not in d[j]:\n",
    "            d[j].append(i)\n",
    "        if len(d[j])>1:\n",
    "            failure = 1\n",
    "    if failure==0 or failure==1:\n",
    "        for i,j in zip(data[k],data['Mnemonic']):\n",
    "            if j not in e[i]:\n",
    "                e[i].append(j)\n",
    "            if len(e[i])>1:\n",
    "                failure = 1\n",
    "    if failure==0:\n",
    "        print('all good! deleting ' + k + '!')\n",
    "        del data[k]\n",
    "    for k,v in d.items():\n",
    "        if len(v)>1:\n",
    "            print(k)\n",
    "            print(v)\n",
    "            print(' ')\n",
    "    print(' ')\n",
    "    alb = True\n",
    "    for k,v in e.items():\n",
    "        if len(v)>1:\n",
    "            alb = False\n",
    "            print(k)\n",
    "            print(v)\n",
    "            print(' ')\n",
    "    print(alb)"
   ]
  },
  {
   "cell_type": "markdown",
   "metadata": {},
   "source": [
    "It looks like a select few Mnemonics have two ISINs. Interesting.  We'll hold off on deleting the ISIN field for now and will come back to this later."
   ]
  },
  {
   "cell_type": "markdown",
   "metadata": {},
   "source": [
    "In the next cell, we'll figure out how many hours each Mnemonic was traded every minute."
   ]
  },
  {
   "cell_type": "code",
   "execution_count": 4,
   "metadata": {},
   "outputs": [
    {
     "name": "stdout",
     "output_type": "stream",
     "text": [
      "day 06 hour 15 is missing\n",
      "day 09 hour 15 is missing\n",
      "VNA: 24\n",
      "BAS: 137\n",
      "BAYN: 122\n",
      "CBK: 76\n",
      "BMW: 109\n",
      "DPW: 52\n",
      "DTE: 88\n",
      "FME: 19\n",
      "IFX: 60\n",
      "RWE: 69\n",
      "SAP: 128\n",
      "VOW3: 119\n",
      "LHA: 21\n",
      "ALV: 114\n",
      "MUV2: 55\n",
      "ADS: 46\n",
      "EOAN: 115\n",
      "SHA: 11\n",
      "WAF: 8\n",
      "DBK: 102\n",
      "CON: 31\n",
      "DAI: 120\n",
      "SIE: 114\n",
      "FRE: 45\n",
      "PSM: 11\n",
      "MRK: 16\n",
      "TKA: 22\n",
      "SNH: 11\n",
      "DWNI: 6\n",
      "LEG: 4\n",
      "PAH3: 13\n",
      "WCH: 11\n",
      "FRA: 5\n",
      "1COV: 38\n",
      "NDA: 16\n",
      "B4B: 3\n",
      "AT1: 1\n",
      "HEI: 21\n",
      "LINU: 14\n",
      "BEI: 12\n",
      "WDI: 21\n",
      "IGY: 14\n",
      "LXS: 7\n",
      "G1A: 7\n",
      "SY1: 4\n",
      "UTDI: 1\n",
      "EVT: 2\n",
      "DB1: 3\n",
      "EXX1: 2\n",
      "HEN3: 10\n",
      "EVK: 7\n",
      "EXS1: 2\n",
      "BOSS: 5\n",
      "KGX: 6\n",
      "LEO: 3\n",
      "OSR: 7\n",
      "ZAL: 3\n",
      "AIR: 1\n",
      "ADE: 1\n",
      "UN01: 1\n",
      "TUI1: 2\n",
      "ARL: 1\n",
      "FPE3: 1\n",
      "RHM: 1\n",
      "DMP: 1\n",
      "NEM: 1\n",
      "QIA: 1\n",
      "BNR: 2\n",
      "SZG: 7\n",
      "EXSA: 9\n",
      "O2D: 2\n",
      "VOW: 1\n",
      "AIXA: 3\n",
      "EXV1: 7\n",
      "VJPN: 1\n"
     ]
    }
   ],
   "source": [
    "import pandas as pd\n",
    "import numpy as np\n",
    "from collections import defaultdict as dd\n",
    "days = ['01','02','05','06','07','08','09','12','13','14','15','16','19','20','21','22','23','26','27','28']\n",
    "hours = ['08','09','10','11','12','13','14','15','16']\n",
    "dfs = []\n",
    "initial = pd.read_csv('2018-02-01/2018-02-01_BINS_XETR08.csv')\n",
    "mend = dd(int)\n",
    "for i in days:\n",
    "    for j in hours:\n",
    "        fpath = '2018-02-' + i + '/2018-02-' + i + '_BINS_XETR' + j + '.csv'\n",
    "        try:\n",
    "            dat2 = pd.read_csv(fpath)\n",
    "            mens = []\n",
    "            for k in dat2.Mnemonic.unique():\n",
    "                if len(dat2[dat2.Mnemonic==k])>len(dat2.Time.unique())-1:\n",
    "                    mens.append(k)\n",
    "            for k in mens:\n",
    "                mend[k]+=1\n",
    "        except:\n",
    "            print('day ' + i + ' hour ' + j + ' is missing')\n",
    "            continue\n",
    "for k,v in mend.items():\n",
    "    print(k+': '+str(v))"
   ]
  },
  {
   "cell_type": "code",
   "execution_count": 5,
   "metadata": {},
   "outputs": [
    {
     "name": "stdout",
     "output_type": "stream",
     "text": [
      "BAS\n",
      "BAYN\n",
      "BMW\n",
      "SAP\n",
      "VOW3\n",
      "ALV\n",
      "EOAN\n",
      "DBK\n",
      "DAI\n",
      "SIE\n"
     ]
    }
   ],
   "source": [
    "for k,v in mend.items():\n",
    "    if v>100:\n",
    "        print(k)"
   ]
  },
  {
   "cell_type": "markdown",
   "metadata": {},
   "source": [
    "It appears that the above 10 securities are the most frequently traded securities.  Since we're trying to build a high frequency trading engine, we'll focus on these."
   ]
  },
  {
   "cell_type": "code",
   "execution_count": 6,
   "metadata": {},
   "outputs": [
    {
     "name": "stdout",
     "output_type": "stream",
     "text": [
      "['BAS', 'BAYN', 'BMW', 'SAP', 'VOW3', 'ALV', 'EOAN', 'DBK', 'DAI', 'SIE']\n"
     ]
    }
   ],
   "source": [
    "fmends = []\n",
    "for k,v in mend.items():\n",
    "    if v>100:\n",
    "        fmends.append(k)\n",
    "print(fmends)"
   ]
  },
  {
   "cell_type": "code",
   "execution_count": 7,
   "metadata": {
    "collapsed": true
   },
   "outputs": [],
   "source": [
    "data2 = data[[x in fmends for x in data.Mnemonic]]"
   ]
  },
  {
   "cell_type": "code",
   "execution_count": 8,
   "metadata": {},
   "outputs": [
    {
     "name": "stdout",
     "output_type": "stream",
     "text": [
      "all good! deleting ISIN!\n"
     ]
    }
   ],
   "source": [
    "from collections import defaultdict as dd\n",
    "d = dd(lambda:[])\n",
    "e = dd(lambda:[])\n",
    "count = 0\n",
    "failure = 0\n",
    "for i,j in zip(data2['ISIN'],data2['Mnemonic']):\n",
    "    if i not in d[j]:\n",
    "        d[j].append(i)\n",
    "    if len(d[j])>1:\n",
    "        print('failure')\n",
    "        failure = 1\n",
    "        break\n",
    "if failure==0:\n",
    "    for i,j in zip(data2['ISIN'],data2['Mnemonic']):\n",
    "        if j not in e[i]:\n",
    "            e[i].append(j)\n",
    "        if len(e[i])>1:\n",
    "            print('failure')\n",
    "            failure = 1\n",
    "            break\n",
    "if failure==0:\n",
    "    print('all good! deleting ISIN!')\n",
    "    del data2['ISIN']"
   ]
  },
  {
   "cell_type": "code",
   "execution_count": 9,
   "metadata": {},
   "outputs": [
    {
     "name": "stdout",
     "output_type": "stream",
     "text": [
      "all good! deleting SecurityID!\n"
     ]
    }
   ],
   "source": [
    "e = dd(lambda:[])\n",
    "f = dd(lambda:[])\n",
    "count = 0\n",
    "failure = 0\n",
    "for i,j in zip(data2['SecurityID'],data2['Mnemonic']):\n",
    "    if i not in e[j]:\n",
    "        e[j].append(i)\n",
    "    if len(e[j])>1:\n",
    "        print('failure')\n",
    "        failure = 1\n",
    "        break\n",
    "if failure==0:\n",
    "    for i,j in zip(data2['SecurityID'],data2['Mnemonic']):\n",
    "        if j not in f[i]:\n",
    "            f[i].append(j)\n",
    "        if len(f[i])>1:\n",
    "            print('failure')\n",
    "            failure = 1\n",
    "            break\n",
    "if failure==0:\n",
    "    print('all good! deleting SecurityID!')\n",
    "    del data2['SecurityID']"
   ]
  },
  {
   "cell_type": "code",
   "execution_count": 10,
   "metadata": {},
   "outputs": [
    {
     "name": "stdout",
     "output_type": "stream",
     "text": [
      "all good! deleting Security Description!\n"
     ]
    }
   ],
   "source": [
    "e = dd(lambda:[])\n",
    "f = dd(lambda:[])\n",
    "count = 0\n",
    "failure = 0\n",
    "for i,j in zip(data2['SecurityDesc'],data2['Mnemonic']):\n",
    "    if i not in e[j]:\n",
    "        e[j].append(i)\n",
    "    if len(e[j])>1:\n",
    "        print('failure')\n",
    "        failure = 1\n",
    "        break\n",
    "if failure==0:\n",
    "    for i,j in zip(data2['SecurityDesc'],data2['Mnemonic']):\n",
    "        if j not in f[i]:\n",
    "            f[i].append(j)\n",
    "        if len(f[i])>1:\n",
    "            print('failure')\n",
    "            failure = 1\n",
    "            break\n",
    "if failure==0:\n",
    "    print('all good! deleting Security Description!')\n",
    "    del data2['SecurityDesc']"
   ]
  },
  {
   "cell_type": "code",
   "execution_count": 11,
   "metadata": {},
   "outputs": [
    {
     "name": "stdout",
     "output_type": "stream",
     "text": [
      "Deleting Security Type\n",
      "All securities are of type Common stock\n"
     ]
    }
   ],
   "source": [
    "if(len(data2.SecurityType.unique()) ==1):\n",
    "    print('Deleting Security Type')\n",
    "    print('All securities are of type '+ data2.SecurityType.unique()[0])\n",
    "    del data2['SecurityType']"
   ]
  },
  {
   "cell_type": "code",
   "execution_count": 69,
   "metadata": {
    "collapsed": true
   },
   "outputs": [],
   "source": [
    "del data2['SecurityType']"
   ]
  },
  {
   "cell_type": "code",
   "execution_count": 70,
   "metadata": {},
   "outputs": [
    {
     "data": {
      "text/plain": [
       "Index(['Mnemonic', 'Currency', 'Date', 'Time', 'StartPrice', 'MaxPrice',\n",
       "       'MinPrice', 'EndPrice', 'TradedVolume', 'NumberOfTrades'],\n",
       "      dtype='object')"
      ]
     },
     "execution_count": 70,
     "metadata": {},
     "output_type": "execute_result"
    }
   ],
   "source": [
    "data2.columns"
   ]
  },
  {
   "cell_type": "code",
   "execution_count": 12,
   "metadata": {},
   "outputs": [
    {
     "name": "stdout",
     "output_type": "stream",
     "text": [
      "Deleting Currency\n",
      "All currencies are of type EUR\n"
     ]
    }
   ],
   "source": [
    "if(len(data2.Currency.unique()) ==1):\n",
    "    print('Deleting Currency')\n",
    "    print('All currencies are of type '+ data2.Currency.unique()[0])\n",
    "    del data2['Currency']"
   ]
  },
  {
   "cell_type": "code",
   "execution_count": 75,
   "metadata": {},
   "outputs": [
    {
     "name": "stdout",
     "output_type": "stream",
     "text": [
      "['BAS', 'BAYN', 'BMW', 'SAP', 'VOW3', 'ALV', 'EOAN', 'DBK', 'DAI', 'SIE']\n",
      "['BAS' 'BAYN' 'EOAN' 'BMW' 'SAP' 'VOW3' 'ALV' 'DBK' 'DAI' 'SIE']\n"
     ]
    }
   ],
   "source": [
    "print(fmends)\n",
    "print(data2.Mnemonic.unique())"
   ]
  },
  {
   "cell_type": "code",
   "execution_count": 85,
   "metadata": {},
   "outputs": [
    {
     "data": {
      "text/html": [
       "<div>\n",
       "<style>\n",
       "    .dataframe thead tr:only-child th {\n",
       "        text-align: right;\n",
       "    }\n",
       "\n",
       "    .dataframe thead th {\n",
       "        text-align: left;\n",
       "    }\n",
       "\n",
       "    .dataframe tbody tr th {\n",
       "        vertical-align: top;\n",
       "    }\n",
       "</style>\n",
       "<table border=\"1\" class=\"dataframe\">\n",
       "  <thead>\n",
       "    <tr style=\"text-align: right;\">\n",
       "      <th></th>\n",
       "      <th>index</th>\n",
       "      <th>Mnemonic</th>\n",
       "      <th>Date</th>\n",
       "      <th>Time</th>\n",
       "      <th>StartPrice</th>\n",
       "      <th>MaxPrice</th>\n",
       "      <th>MinPrice</th>\n",
       "      <th>EndPrice</th>\n",
       "      <th>TradedVolume</th>\n",
       "      <th>NumberOfTrades</th>\n",
       "    </tr>\n",
       "  </thead>\n",
       "  <tbody>\n",
       "    <tr>\n",
       "      <th>0</th>\n",
       "      <td>6</td>\n",
       "      <td>BAS</td>\n",
       "      <td>2018-02-01</td>\n",
       "      <td>08:00</td>\n",
       "      <td>94.770</td>\n",
       "      <td>94.830</td>\n",
       "      <td>94.750</td>\n",
       "      <td>94.750</td>\n",
       "      <td>7676</td>\n",
       "      <td>49</td>\n",
       "    </tr>\n",
       "    <tr>\n",
       "      <th>1</th>\n",
       "      <td>7</td>\n",
       "      <td>BAYN</td>\n",
       "      <td>2018-02-01</td>\n",
       "      <td>08:00</td>\n",
       "      <td>105.920</td>\n",
       "      <td>105.960</td>\n",
       "      <td>105.840</td>\n",
       "      <td>105.860</td>\n",
       "      <td>6706</td>\n",
       "      <td>32</td>\n",
       "    </tr>\n",
       "    <tr>\n",
       "      <th>2</th>\n",
       "      <td>9</td>\n",
       "      <td>EOAN</td>\n",
       "      <td>2018-02-01</td>\n",
       "      <td>08:00</td>\n",
       "      <td>8.517</td>\n",
       "      <td>8.517</td>\n",
       "      <td>8.500</td>\n",
       "      <td>8.505</td>\n",
       "      <td>11232</td>\n",
       "      <td>13</td>\n",
       "    </tr>\n",
       "    <tr>\n",
       "      <th>3</th>\n",
       "      <td>15</td>\n",
       "      <td>BMW</td>\n",
       "      <td>2018-02-01</td>\n",
       "      <td>08:00</td>\n",
       "      <td>92.360</td>\n",
       "      <td>92.360</td>\n",
       "      <td>91.930</td>\n",
       "      <td>91.930</td>\n",
       "      <td>14755</td>\n",
       "      <td>80</td>\n",
       "    </tr>\n",
       "    <tr>\n",
       "      <th>4</th>\n",
       "      <td>40</td>\n",
       "      <td>SAP</td>\n",
       "      <td>2018-02-01</td>\n",
       "      <td>08:00</td>\n",
       "      <td>91.510</td>\n",
       "      <td>91.550</td>\n",
       "      <td>91.430</td>\n",
       "      <td>91.550</td>\n",
       "      <td>7297</td>\n",
       "      <td>64</td>\n",
       "    </tr>\n",
       "    <tr>\n",
       "      <th>5</th>\n",
       "      <td>43</td>\n",
       "      <td>VOW3</td>\n",
       "      <td>2018-02-01</td>\n",
       "      <td>08:00</td>\n",
       "      <td>178.600</td>\n",
       "      <td>179.000</td>\n",
       "      <td>178.040</td>\n",
       "      <td>178.360</td>\n",
       "      <td>6175</td>\n",
       "      <td>54</td>\n",
       "    </tr>\n",
       "    <tr>\n",
       "      <th>6</th>\n",
       "      <td>45</td>\n",
       "      <td>ALV</td>\n",
       "      <td>2018-02-01</td>\n",
       "      <td>08:00</td>\n",
       "      <td>204.550</td>\n",
       "      <td>204.850</td>\n",
       "      <td>204.550</td>\n",
       "      <td>204.650</td>\n",
       "      <td>5248</td>\n",
       "      <td>43</td>\n",
       "    </tr>\n",
       "    <tr>\n",
       "      <th>7</th>\n",
       "      <td>53</td>\n",
       "      <td>BAS</td>\n",
       "      <td>2018-02-01</td>\n",
       "      <td>08:01</td>\n",
       "      <td>94.700</td>\n",
       "      <td>94.700</td>\n",
       "      <td>94.590</td>\n",
       "      <td>94.590</td>\n",
       "      <td>1935</td>\n",
       "      <td>17</td>\n",
       "    </tr>\n",
       "    <tr>\n",
       "      <th>8</th>\n",
       "      <td>54</td>\n",
       "      <td>BAYN</td>\n",
       "      <td>2018-02-01</td>\n",
       "      <td>08:01</td>\n",
       "      <td>105.820</td>\n",
       "      <td>105.820</td>\n",
       "      <td>105.680</td>\n",
       "      <td>105.740</td>\n",
       "      <td>1424</td>\n",
       "      <td>16</td>\n",
       "    </tr>\n",
       "    <tr>\n",
       "      <th>9</th>\n",
       "      <td>56</td>\n",
       "      <td>EOAN</td>\n",
       "      <td>2018-02-01</td>\n",
       "      <td>08:01</td>\n",
       "      <td>8.510</td>\n",
       "      <td>8.535</td>\n",
       "      <td>8.510</td>\n",
       "      <td>8.535</td>\n",
       "      <td>45765</td>\n",
       "      <td>24</td>\n",
       "    </tr>\n",
       "    <tr>\n",
       "      <th>10</th>\n",
       "      <td>59</td>\n",
       "      <td>BMW</td>\n",
       "      <td>2018-02-01</td>\n",
       "      <td>08:01</td>\n",
       "      <td>91.940</td>\n",
       "      <td>92.240</td>\n",
       "      <td>91.940</td>\n",
       "      <td>92.180</td>\n",
       "      <td>5059</td>\n",
       "      <td>29</td>\n",
       "    </tr>\n",
       "    <tr>\n",
       "      <th>11</th>\n",
       "      <td>75</td>\n",
       "      <td>SAP</td>\n",
       "      <td>2018-02-01</td>\n",
       "      <td>08:01</td>\n",
       "      <td>91.550</td>\n",
       "      <td>91.570</td>\n",
       "      <td>91.490</td>\n",
       "      <td>91.490</td>\n",
       "      <td>11982</td>\n",
       "      <td>67</td>\n",
       "    </tr>\n",
       "    <tr>\n",
       "      <th>12</th>\n",
       "      <td>78</td>\n",
       "      <td>VOW3</td>\n",
       "      <td>2018-02-01</td>\n",
       "      <td>08:01</td>\n",
       "      <td>178.360</td>\n",
       "      <td>178.360</td>\n",
       "      <td>177.780</td>\n",
       "      <td>177.780</td>\n",
       "      <td>3573</td>\n",
       "      <td>28</td>\n",
       "    </tr>\n",
       "    <tr>\n",
       "      <th>13</th>\n",
       "      <td>80</td>\n",
       "      <td>ALV</td>\n",
       "      <td>2018-02-01</td>\n",
       "      <td>08:01</td>\n",
       "      <td>204.650</td>\n",
       "      <td>204.750</td>\n",
       "      <td>204.650</td>\n",
       "      <td>204.700</td>\n",
       "      <td>5108</td>\n",
       "      <td>32</td>\n",
       "    </tr>\n",
       "    <tr>\n",
       "      <th>14</th>\n",
       "      <td>119</td>\n",
       "      <td>BAS</td>\n",
       "      <td>2018-02-01</td>\n",
       "      <td>08:02</td>\n",
       "      <td>94.630</td>\n",
       "      <td>94.750</td>\n",
       "      <td>94.610</td>\n",
       "      <td>94.750</td>\n",
       "      <td>5429</td>\n",
       "      <td>31</td>\n",
       "    </tr>\n",
       "    <tr>\n",
       "      <th>15</th>\n",
       "      <td>120</td>\n",
       "      <td>BAYN</td>\n",
       "      <td>2018-02-01</td>\n",
       "      <td>08:02</td>\n",
       "      <td>105.740</td>\n",
       "      <td>105.900</td>\n",
       "      <td>105.740</td>\n",
       "      <td>105.760</td>\n",
       "      <td>5123</td>\n",
       "      <td>24</td>\n",
       "    </tr>\n",
       "    <tr>\n",
       "      <th>16</th>\n",
       "      <td>122</td>\n",
       "      <td>EOAN</td>\n",
       "      <td>2018-02-01</td>\n",
       "      <td>08:02</td>\n",
       "      <td>8.531</td>\n",
       "      <td>8.560</td>\n",
       "      <td>8.529</td>\n",
       "      <td>8.549</td>\n",
       "      <td>101761</td>\n",
       "      <td>45</td>\n",
       "    </tr>\n",
       "    <tr>\n",
       "      <th>17</th>\n",
       "      <td>141</td>\n",
       "      <td>DBK</td>\n",
       "      <td>2018-02-01</td>\n",
       "      <td>08:02</td>\n",
       "      <td>14.900</td>\n",
       "      <td>14.940</td>\n",
       "      <td>14.880</td>\n",
       "      <td>14.934</td>\n",
       "      <td>49845</td>\n",
       "      <td>63</td>\n",
       "    </tr>\n",
       "    <tr>\n",
       "      <th>18</th>\n",
       "      <td>144</td>\n",
       "      <td>BMW</td>\n",
       "      <td>2018-02-01</td>\n",
       "      <td>08:02</td>\n",
       "      <td>92.220</td>\n",
       "      <td>92.220</td>\n",
       "      <td>92.060</td>\n",
       "      <td>92.100</td>\n",
       "      <td>10484</td>\n",
       "      <td>51</td>\n",
       "    </tr>\n",
       "    <tr>\n",
       "      <th>19</th>\n",
       "      <td>192</td>\n",
       "      <td>DAI</td>\n",
       "      <td>2018-02-01</td>\n",
       "      <td>08:02</td>\n",
       "      <td>72.250</td>\n",
       "      <td>72.260</td>\n",
       "      <td>71.810</td>\n",
       "      <td>72.120</td>\n",
       "      <td>129608</td>\n",
       "      <td>394</td>\n",
       "    </tr>\n",
       "    <tr>\n",
       "      <th>20</th>\n",
       "      <td>193</td>\n",
       "      <td>SAP</td>\n",
       "      <td>2018-02-01</td>\n",
       "      <td>08:02</td>\n",
       "      <td>91.490</td>\n",
       "      <td>91.570</td>\n",
       "      <td>91.430</td>\n",
       "      <td>91.560</td>\n",
       "      <td>16343</td>\n",
       "      <td>78</td>\n",
       "    </tr>\n",
       "    <tr>\n",
       "      <th>21</th>\n",
       "      <td>196</td>\n",
       "      <td>SIE</td>\n",
       "      <td>2018-02-01</td>\n",
       "      <td>08:02</td>\n",
       "      <td>119.560</td>\n",
       "      <td>119.700</td>\n",
       "      <td>119.400</td>\n",
       "      <td>119.440</td>\n",
       "      <td>11951</td>\n",
       "      <td>55</td>\n",
       "    </tr>\n",
       "    <tr>\n",
       "      <th>22</th>\n",
       "      <td>211</td>\n",
       "      <td>VOW3</td>\n",
       "      <td>2018-02-01</td>\n",
       "      <td>08:02</td>\n",
       "      <td>177.800</td>\n",
       "      <td>177.820</td>\n",
       "      <td>177.500</td>\n",
       "      <td>177.560</td>\n",
       "      <td>4762</td>\n",
       "      <td>48</td>\n",
       "    </tr>\n",
       "    <tr>\n",
       "      <th>23</th>\n",
       "      <td>215</td>\n",
       "      <td>ALV</td>\n",
       "      <td>2018-02-01</td>\n",
       "      <td>08:02</td>\n",
       "      <td>204.700</td>\n",
       "      <td>204.900</td>\n",
       "      <td>204.700</td>\n",
       "      <td>204.900</td>\n",
       "      <td>11388</td>\n",
       "      <td>69</td>\n",
       "    </tr>\n",
       "    <tr>\n",
       "      <th>24</th>\n",
       "      <td>252</td>\n",
       "      <td>BAS</td>\n",
       "      <td>2018-02-01</td>\n",
       "      <td>08:03</td>\n",
       "      <td>94.760</td>\n",
       "      <td>94.770</td>\n",
       "      <td>94.690</td>\n",
       "      <td>94.730</td>\n",
       "      <td>3582</td>\n",
       "      <td>44</td>\n",
       "    </tr>\n",
       "    <tr>\n",
       "      <th>25</th>\n",
       "      <td>253</td>\n",
       "      <td>BAYN</td>\n",
       "      <td>2018-02-01</td>\n",
       "      <td>08:03</td>\n",
       "      <td>105.700</td>\n",
       "      <td>105.880</td>\n",
       "      <td>105.700</td>\n",
       "      <td>105.800</td>\n",
       "      <td>3137</td>\n",
       "      <td>28</td>\n",
       "    </tr>\n",
       "    <tr>\n",
       "      <th>26</th>\n",
       "      <td>255</td>\n",
       "      <td>EOAN</td>\n",
       "      <td>2018-02-01</td>\n",
       "      <td>08:03</td>\n",
       "      <td>8.543</td>\n",
       "      <td>8.548</td>\n",
       "      <td>8.540</td>\n",
       "      <td>8.548</td>\n",
       "      <td>18185</td>\n",
       "      <td>7</td>\n",
       "    </tr>\n",
       "    <tr>\n",
       "      <th>27</th>\n",
       "      <td>270</td>\n",
       "      <td>DBK</td>\n",
       "      <td>2018-02-01</td>\n",
       "      <td>08:03</td>\n",
       "      <td>14.938</td>\n",
       "      <td>14.990</td>\n",
       "      <td>14.916</td>\n",
       "      <td>14.980</td>\n",
       "      <td>135106</td>\n",
       "      <td>114</td>\n",
       "    </tr>\n",
       "    <tr>\n",
       "      <th>28</th>\n",
       "      <td>274</td>\n",
       "      <td>BMW</td>\n",
       "      <td>2018-02-01</td>\n",
       "      <td>08:03</td>\n",
       "      <td>92.000</td>\n",
       "      <td>92.090</td>\n",
       "      <td>91.980</td>\n",
       "      <td>91.990</td>\n",
       "      <td>4703</td>\n",
       "      <td>34</td>\n",
       "    </tr>\n",
       "    <tr>\n",
       "      <th>29</th>\n",
       "      <td>312</td>\n",
       "      <td>DAI</td>\n",
       "      <td>2018-02-01</td>\n",
       "      <td>08:03</td>\n",
       "      <td>72.110</td>\n",
       "      <td>72.350</td>\n",
       "      <td>71.950</td>\n",
       "      <td>72.270</td>\n",
       "      <td>34685</td>\n",
       "      <td>119</td>\n",
       "    </tr>\n",
       "  </tbody>\n",
       "</table>\n",
       "</div>"
      ],
      "text/plain": [
       "    index Mnemonic        Date   Time  StartPrice  MaxPrice  MinPrice  \\\n",
       "0       6      BAS  2018-02-01  08:00      94.770    94.830    94.750   \n",
       "1       7     BAYN  2018-02-01  08:00     105.920   105.960   105.840   \n",
       "2       9     EOAN  2018-02-01  08:00       8.517     8.517     8.500   \n",
       "3      15      BMW  2018-02-01  08:00      92.360    92.360    91.930   \n",
       "4      40      SAP  2018-02-01  08:00      91.510    91.550    91.430   \n",
       "5      43     VOW3  2018-02-01  08:00     178.600   179.000   178.040   \n",
       "6      45      ALV  2018-02-01  08:00     204.550   204.850   204.550   \n",
       "7      53      BAS  2018-02-01  08:01      94.700    94.700    94.590   \n",
       "8      54     BAYN  2018-02-01  08:01     105.820   105.820   105.680   \n",
       "9      56     EOAN  2018-02-01  08:01       8.510     8.535     8.510   \n",
       "10     59      BMW  2018-02-01  08:01      91.940    92.240    91.940   \n",
       "11     75      SAP  2018-02-01  08:01      91.550    91.570    91.490   \n",
       "12     78     VOW3  2018-02-01  08:01     178.360   178.360   177.780   \n",
       "13     80      ALV  2018-02-01  08:01     204.650   204.750   204.650   \n",
       "14    119      BAS  2018-02-01  08:02      94.630    94.750    94.610   \n",
       "15    120     BAYN  2018-02-01  08:02     105.740   105.900   105.740   \n",
       "16    122     EOAN  2018-02-01  08:02       8.531     8.560     8.529   \n",
       "17    141      DBK  2018-02-01  08:02      14.900    14.940    14.880   \n",
       "18    144      BMW  2018-02-01  08:02      92.220    92.220    92.060   \n",
       "19    192      DAI  2018-02-01  08:02      72.250    72.260    71.810   \n",
       "20    193      SAP  2018-02-01  08:02      91.490    91.570    91.430   \n",
       "21    196      SIE  2018-02-01  08:02     119.560   119.700   119.400   \n",
       "22    211     VOW3  2018-02-01  08:02     177.800   177.820   177.500   \n",
       "23    215      ALV  2018-02-01  08:02     204.700   204.900   204.700   \n",
       "24    252      BAS  2018-02-01  08:03      94.760    94.770    94.690   \n",
       "25    253     BAYN  2018-02-01  08:03     105.700   105.880   105.700   \n",
       "26    255     EOAN  2018-02-01  08:03       8.543     8.548     8.540   \n",
       "27    270      DBK  2018-02-01  08:03      14.938    14.990    14.916   \n",
       "28    274      BMW  2018-02-01  08:03      92.000    92.090    91.980   \n",
       "29    312      DAI  2018-02-01  08:03      72.110    72.350    71.950   \n",
       "\n",
       "    EndPrice  TradedVolume  NumberOfTrades  \n",
       "0     94.750          7676              49  \n",
       "1    105.860          6706              32  \n",
       "2      8.505         11232              13  \n",
       "3     91.930         14755              80  \n",
       "4     91.550          7297              64  \n",
       "5    178.360          6175              54  \n",
       "6    204.650          5248              43  \n",
       "7     94.590          1935              17  \n",
       "8    105.740          1424              16  \n",
       "9      8.535         45765              24  \n",
       "10    92.180          5059              29  \n",
       "11    91.490         11982              67  \n",
       "12   177.780          3573              28  \n",
       "13   204.700          5108              32  \n",
       "14    94.750          5429              31  \n",
       "15   105.760          5123              24  \n",
       "16     8.549        101761              45  \n",
       "17    14.934         49845              63  \n",
       "18    92.100         10484              51  \n",
       "19    72.120        129608             394  \n",
       "20    91.560         16343              78  \n",
       "21   119.440         11951              55  \n",
       "22   177.560          4762              48  \n",
       "23   204.900         11388              69  \n",
       "24    94.730          3582              44  \n",
       "25   105.800          3137              28  \n",
       "26     8.548         18185               7  \n",
       "27    14.980        135106             114  \n",
       "28    91.990          4703              34  \n",
       "29    72.270         34685             119  "
      ]
     },
     "execution_count": 85,
     "metadata": {},
     "output_type": "execute_result"
    }
   ],
   "source": [
    "data2.head(30)"
   ]
  },
  {
   "cell_type": "code",
   "execution_count": 18,
   "metadata": {},
   "outputs": [
    {
     "data": {
      "text/plain": [
       "100008"
      ]
     },
     "execution_count": 18,
     "metadata": {},
     "output_type": "execute_result"
    }
   ],
   "source": [
    "len(data2)"
   ]
  },
  {
   "cell_type": "markdown",
   "metadata": {},
   "source": [
    "Let's combine date and time to make a datetime; it'll be handy later."
   ]
  },
  {
   "cell_type": "code",
   "execution_count": 13,
   "metadata": {
    "collapsed": true
   },
   "outputs": [],
   "source": [
    "dts = pd.to_datetime([x+y for x,y in zip(data2['Date'], data2['Time'])], format = '%Y-%m-%d%H:%M')"
   ]
  },
  {
   "cell_type": "code",
   "execution_count": 14,
   "metadata": {},
   "outputs": [
    {
     "data": {
      "text/plain": [
       "DatetimeIndex(['2018-02-01 08:00:00', '2018-02-01 08:00:00',\n",
       "               '2018-02-01 08:00:00', '2018-02-01 08:00:00',\n",
       "               '2018-02-01 08:00:00', '2018-02-01 08:00:00',\n",
       "               '2018-02-01 08:00:00', '2018-02-01 08:01:00',\n",
       "               '2018-02-01 08:01:00', '2018-02-01 08:01:00'],\n",
       "              dtype='datetime64[ns]', freq=None)"
      ]
     },
     "execution_count": 14,
     "metadata": {},
     "output_type": "execute_result"
    }
   ],
   "source": [
    "dts[:10]"
   ]
  },
  {
   "cell_type": "code",
   "execution_count": 15,
   "metadata": {},
   "outputs": [
    {
     "name": "stderr",
     "output_type": "stream",
     "text": [
      "/Users/subramanianiyer/anaconda2/envs/mypython3/lib/python3.6/site-packages/ipykernel_launcher.py:1: SettingWithCopyWarning: \n",
      "A value is trying to be set on a copy of a slice from a DataFrame.\n",
      "Try using .loc[row_indexer,col_indexer] = value instead\n",
      "\n",
      "See the caveats in the documentation: http://pandas.pydata.org/pandas-docs/stable/indexing.html#indexing-view-versus-copy\n",
      "  \"\"\"Entry point for launching an IPython kernel.\n"
     ]
    }
   ],
   "source": [
    "data2['DateTime'] = dts"
   ]
  },
  {
   "cell_type": "code",
   "execution_count": 16,
   "metadata": {},
   "outputs": [
    {
     "data": {
      "text/html": [
       "<div>\n",
       "<style>\n",
       "    .dataframe thead tr:only-child th {\n",
       "        text-align: right;\n",
       "    }\n",
       "\n",
       "    .dataframe thead th {\n",
       "        text-align: left;\n",
       "    }\n",
       "\n",
       "    .dataframe tbody tr th {\n",
       "        vertical-align: top;\n",
       "    }\n",
       "</style>\n",
       "<table border=\"1\" class=\"dataframe\">\n",
       "  <thead>\n",
       "    <tr style=\"text-align: right;\">\n",
       "      <th></th>\n",
       "      <th>Mnemonic</th>\n",
       "      <th>Date</th>\n",
       "      <th>Time</th>\n",
       "      <th>StartPrice</th>\n",
       "      <th>MaxPrice</th>\n",
       "      <th>MinPrice</th>\n",
       "      <th>EndPrice</th>\n",
       "      <th>TradedVolume</th>\n",
       "      <th>NumberOfTrades</th>\n",
       "      <th>DateTime</th>\n",
       "    </tr>\n",
       "  </thead>\n",
       "  <tbody>\n",
       "    <tr>\n",
       "      <th>6</th>\n",
       "      <td>BAS</td>\n",
       "      <td>2018-02-01</td>\n",
       "      <td>08:00</td>\n",
       "      <td>94.770</td>\n",
       "      <td>94.830</td>\n",
       "      <td>94.75</td>\n",
       "      <td>94.750</td>\n",
       "      <td>7676</td>\n",
       "      <td>49</td>\n",
       "      <td>2018-02-01 08:00:00</td>\n",
       "    </tr>\n",
       "    <tr>\n",
       "      <th>7</th>\n",
       "      <td>BAYN</td>\n",
       "      <td>2018-02-01</td>\n",
       "      <td>08:00</td>\n",
       "      <td>105.920</td>\n",
       "      <td>105.960</td>\n",
       "      <td>105.84</td>\n",
       "      <td>105.860</td>\n",
       "      <td>6706</td>\n",
       "      <td>32</td>\n",
       "      <td>2018-02-01 08:00:00</td>\n",
       "    </tr>\n",
       "    <tr>\n",
       "      <th>9</th>\n",
       "      <td>EOAN</td>\n",
       "      <td>2018-02-01</td>\n",
       "      <td>08:00</td>\n",
       "      <td>8.517</td>\n",
       "      <td>8.517</td>\n",
       "      <td>8.50</td>\n",
       "      <td>8.505</td>\n",
       "      <td>11232</td>\n",
       "      <td>13</td>\n",
       "      <td>2018-02-01 08:00:00</td>\n",
       "    </tr>\n",
       "    <tr>\n",
       "      <th>15</th>\n",
       "      <td>BMW</td>\n",
       "      <td>2018-02-01</td>\n",
       "      <td>08:00</td>\n",
       "      <td>92.360</td>\n",
       "      <td>92.360</td>\n",
       "      <td>91.93</td>\n",
       "      <td>91.930</td>\n",
       "      <td>14755</td>\n",
       "      <td>80</td>\n",
       "      <td>2018-02-01 08:00:00</td>\n",
       "    </tr>\n",
       "    <tr>\n",
       "      <th>40</th>\n",
       "      <td>SAP</td>\n",
       "      <td>2018-02-01</td>\n",
       "      <td>08:00</td>\n",
       "      <td>91.510</td>\n",
       "      <td>91.550</td>\n",
       "      <td>91.43</td>\n",
       "      <td>91.550</td>\n",
       "      <td>7297</td>\n",
       "      <td>64</td>\n",
       "      <td>2018-02-01 08:00:00</td>\n",
       "    </tr>\n",
       "  </tbody>\n",
       "</table>\n",
       "</div>"
      ],
      "text/plain": [
       "   Mnemonic        Date   Time  StartPrice  MaxPrice  MinPrice  EndPrice  \\\n",
       "6       BAS  2018-02-01  08:00      94.770    94.830     94.75    94.750   \n",
       "7      BAYN  2018-02-01  08:00     105.920   105.960    105.84   105.860   \n",
       "9      EOAN  2018-02-01  08:00       8.517     8.517      8.50     8.505   \n",
       "15      BMW  2018-02-01  08:00      92.360    92.360     91.93    91.930   \n",
       "40      SAP  2018-02-01  08:00      91.510    91.550     91.43    91.550   \n",
       "\n",
       "    TradedVolume  NumberOfTrades            DateTime  \n",
       "6           7676              49 2018-02-01 08:00:00  \n",
       "7           6706              32 2018-02-01 08:00:00  \n",
       "9          11232              13 2018-02-01 08:00:00  \n",
       "15         14755              80 2018-02-01 08:00:00  \n",
       "40          7297              64 2018-02-01 08:00:00  "
      ]
     },
     "execution_count": 16,
     "metadata": {},
     "output_type": "execute_result"
    }
   ],
   "source": [
    "data2.head()"
   ]
  },
  {
   "cell_type": "code",
   "execution_count": 17,
   "metadata": {
    "collapsed": true
   },
   "outputs": [],
   "source": [
    "del data2['Date']\n",
    "del data2['Time']"
   ]
  },
  {
   "cell_type": "markdown",
   "metadata": {},
   "source": [
    "We'll pickle this for later."
   ]
  },
  {
   "cell_type": "code",
   "execution_count": 19,
   "metadata": {
    "collapsed": true
   },
   "outputs": [],
   "source": [
    "import pickle\n",
    "with open('check1.pkl', 'wb') as picklefile:\n",
    "    pickle.dump(data2, picklefile)"
   ]
  },
  {
   "cell_type": "markdown",
   "metadata": {},
   "source": [
    "Let's make sure we chose the right companies.  We chose the companies that had over 100 hours of trading every minute, but let's make sure that also corresponds to the companies traded over the most minutes."
   ]
  },
  {
   "cell_type": "code",
   "execution_count": 20,
   "metadata": {},
   "outputs": [
    {
     "name": "stdout",
     "output_type": "stream",
     "text": [
      "day 06 hour 15 is missing\n",
      "day 09 hour 15 is missing\n"
     ]
    },
    {
     "data": {
      "text/plain": [
       "(array([ 1839.,   110.,    49.,    32.,    34.,    10.,    18.,    16.,\n",
       "            9.,    27.]),\n",
       " array([  1.00000000e+00,   1.00390000e+03,   2.00680000e+03,\n",
       "          3.00970000e+03,   4.01260000e+03,   5.01550000e+03,\n",
       "          6.01840000e+03,   7.02130000e+03,   8.02420000e+03,\n",
       "          9.02710000e+03,   1.00300000e+04]),\n",
       " <a list of 10 Patch objects>)"
      ]
     },
     "execution_count": 20,
     "metadata": {},
     "output_type": "execute_result"
    },
    {
     "data": {
      "image/png": "[encoded data removed]",
      "text/plain": [
       "<matplotlib.figure.Figure at 0x11f56ddd8>"
      ]
     },
     "metadata": {},
     "output_type": "display_data"
    }
   ],
   "source": [
    "import matplotlib.pyplot as plt\n",
    "%matplotlib inline\n",
    "from collections import defaultdict as dd\n",
    "days = ['01','02','05','06','07','08','09','12','13','14','15','16','19','20','21','22','23','26','27','28']\n",
    "mend2 = dd(int)\n",
    "for i in days:\n",
    "    for j in hours:\n",
    "        fpath = '2018-02-' + i + '/2018-02-' + i + '_BINS_XETR' + j + '.csv'\n",
    "        try:\n",
    "            dat2 = pd.read_csv(fpath)\n",
    "            for k in dat2.Mnemonic:\n",
    "                mend2[k]+=1\n",
    "        except:\n",
    "            print('day ' + i + ' hour ' + j + ' is missing')\n",
    "            continue\n",
    "totalT = []\n",
    "for k,v in mend2.items():\n",
    "    totalT.append(v)\n",
    "plt.hist(totalT)"
   ]
  },
  {
   "cell_type": "code",
   "execution_count": 21,
   "metadata": {},
   "outputs": [
    {
     "name": "stdout",
     "output_type": "stream",
     "text": [
      "BAS\n",
      "10030\n",
      "BAYN\n",
      "10011\n",
      "EOAN\n",
      "9999\n",
      "BMW\n",
      "9981\n",
      "SAP\n",
      "10021\n",
      "VOW3\n",
      "10000\n",
      "ALV\n",
      "9983\n",
      "DBK\n",
      "9984\n",
      "DAI\n",
      "10009\n",
      "SIE\n",
      "9990\n"
     ]
    }
   ],
   "source": [
    "for k,v in mend2.items():\n",
    "    if v>9900:\n",
    "        print(k)\n",
    "        print(v)"
   ]
  },
  {
   "cell_type": "markdown",
   "metadata": {},
   "source": [
    "It's the same 10 companies, so we're ok. In the next notebook, we'll start off with what we pickled and impute some missing values."
   ]
  }
 ],
 "metadata": {
  "kernelspec": {
   "display_name": "Python 3",
   "language": "python",
   "name": "python3"
  },
  "language_info": {
   "codemirror_mode": {
    "name": "ipython",
    "version": 3
   },
   "file_extension": ".py",
   "mimetype": "text/x-python",
   "name": "python",
   "nbconvert_exporter": "python",
   "pygments_lexer": "ipython3",
   "version": "3.6.3"
  }
 },
 "nbformat": 4,
 "nbformat_minor": 2
}
