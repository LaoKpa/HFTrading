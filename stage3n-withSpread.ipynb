{
 "cells": [
  {
   "cell_type": "markdown",
   "metadata": {},
   "source": [
    "This cell is for prepping the data for training the neural network; this time we want to simulate a bid-ask spread of .2 cents."
   ]
  },
  {
   "cell_type": "code",
   "execution_count": 19,
   "metadata": {
    "collapsed": true
   },
   "outputs": [],
   "source": [
    "import pickle\n",
    "import pandas as pd\n",
    "import numpy as np\n",
    "with open('check2.pkl','rb') as picfile:\n",
    "    data = pickle.load(picfile)\n",
    "for i in range(10):\n",
    "    data[i].reset_index(inplace=True)\n",
    "for i in range(10):\n",
    "    del data[i]['index']"
   ]
  },
  {
   "cell_type": "code",
   "execution_count": 16,
   "metadata": {},
   "outputs": [
    {
     "data": {
      "text/html": [
       "<div>\n",
       "<style>\n",
       "    .dataframe thead tr:only-child th {\n",
       "        text-align: right;\n",
       "    }\n",
       "\n",
       "    .dataframe thead th {\n",
       "        text-align: left;\n",
       "    }\n",
       "\n",
       "    .dataframe tbody tr th {\n",
       "        vertical-align: top;\n",
       "    }\n",
       "</style>\n",
       "<table border=\"1\" class=\"dataframe\">\n",
       "  <thead>\n",
       "    <tr style=\"text-align: right;\">\n",
       "      <th></th>\n",
       "      <th>Mnemonic</th>\n",
       "      <th>StartPrice</th>\n",
       "      <th>MaxPrice</th>\n",
       "      <th>MinPrice</th>\n",
       "      <th>EndPrice</th>\n",
       "      <th>TradedVolume</th>\n",
       "      <th>NumberOfTrades</th>\n",
       "      <th>DateTime</th>\n",
       "    </tr>\n",
       "  </thead>\n",
       "  <tbody>\n",
       "    <tr>\n",
       "      <th>0</th>\n",
       "      <td>BAS</td>\n",
       "      <td>94.77</td>\n",
       "      <td>94.83</td>\n",
       "      <td>94.75</td>\n",
       "      <td>94.75</td>\n",
       "      <td>7676</td>\n",
       "      <td>49</td>\n",
       "      <td>2018-02-01 08:00:00</td>\n",
       "    </tr>\n",
       "    <tr>\n",
       "      <th>1</th>\n",
       "      <td>BAS</td>\n",
       "      <td>94.70</td>\n",
       "      <td>94.70</td>\n",
       "      <td>94.59</td>\n",
       "      <td>94.59</td>\n",
       "      <td>1935</td>\n",
       "      <td>17</td>\n",
       "      <td>2018-02-01 08:01:00</td>\n",
       "    </tr>\n",
       "    <tr>\n",
       "      <th>2</th>\n",
       "      <td>BAS</td>\n",
       "      <td>94.63</td>\n",
       "      <td>94.75</td>\n",
       "      <td>94.61</td>\n",
       "      <td>94.75</td>\n",
       "      <td>5429</td>\n",
       "      <td>31</td>\n",
       "      <td>2018-02-01 08:02:00</td>\n",
       "    </tr>\n",
       "    <tr>\n",
       "      <th>3</th>\n",
       "      <td>BAS</td>\n",
       "      <td>94.76</td>\n",
       "      <td>94.77</td>\n",
       "      <td>94.69</td>\n",
       "      <td>94.73</td>\n",
       "      <td>3582</td>\n",
       "      <td>44</td>\n",
       "      <td>2018-02-01 08:03:00</td>\n",
       "    </tr>\n",
       "    <tr>\n",
       "      <th>4</th>\n",
       "      <td>BAS</td>\n",
       "      <td>94.71</td>\n",
       "      <td>94.72</td>\n",
       "      <td>94.66</td>\n",
       "      <td>94.69</td>\n",
       "      <td>8392</td>\n",
       "      <td>46</td>\n",
       "      <td>2018-02-01 08:04:00</td>\n",
       "    </tr>\n",
       "  </tbody>\n",
       "</table>\n",
       "</div>"
      ],
      "text/plain": [
       "  Mnemonic  StartPrice  MaxPrice  MinPrice  EndPrice TradedVolume  \\\n",
       "0      BAS       94.77     94.83     94.75     94.75         7676   \n",
       "1      BAS       94.70     94.70     94.59     94.59         1935   \n",
       "2      BAS       94.63     94.75     94.61     94.75         5429   \n",
       "3      BAS       94.76     94.77     94.69     94.73         3582   \n",
       "4      BAS       94.71     94.72     94.66     94.69         8392   \n",
       "\n",
       "  NumberOfTrades            DateTime  \n",
       "0             49 2018-02-01 08:00:00  \n",
       "1             17 2018-02-01 08:01:00  \n",
       "2             31 2018-02-01 08:02:00  \n",
       "3             44 2018-02-01 08:03:00  \n",
       "4             46 2018-02-01 08:04:00  "
      ]
     },
     "execution_count": 16,
     "metadata": {},
     "output_type": "execute_result"
    }
   ],
   "source": [
    "data[0].head()"
   ]
  },
  {
   "cell_type": "markdown",
   "metadata": {},
   "source": [
    "This time, instead of deleting start price and end price, we'll add .1 cents to the start price and subtract .1 cents from the endprice to simulate the spread. This will be used in the scripts that generate and test the neural networks."
   ]
  },
  {
   "cell_type": "code",
   "execution_count": 20,
   "metadata": {
    "collapsed": true
   },
   "outputs": [],
   "source": [
    "dfs = []\n",
    "for j in data:\n",
    "    del j['Mnemonic']\n",
    "    del j['MaxPrice']\n",
    "    del j['MinPrice']\n",
    "    #del j['TradedVolume']\n",
    "    del j['NumberOfTrades']\n",
    "    del j['DateTime']\n",
    "    #j['logCV'] = [np.log(x+1)-np.log(y+1) for x,y in zip(j['TradedVolume'].shift(1).fillna(value=0),j['TradedVolume'].shift(2).fillna(value=0))]\n",
    "    j['logC'] = [np.log(x)-np.log(y) for x,y in zip(j['EndPrice'],j['StartPrice'])]\n",
    "    j['StartPrice'] = [x+.001 for x in j['StartPrice']]\n",
    "    j['EndPrice'] = [x-.001 for x in j['EndPrice']]\n",
    "    dfs.append(j)\n",
    "with open('check3x1WSpread.pkl', 'wb') as picklefile:\n",
    "    pickle.dump(dfs, picklefile)"
   ]
  },
  {
   "cell_type": "code",
   "execution_count": 18,
   "metadata": {},
   "outputs": [
    {
     "data": {
      "text/html": [
       "<div>\n",
       "<style>\n",
       "    .dataframe thead tr:only-child th {\n",
       "        text-align: right;\n",
       "    }\n",
       "\n",
       "    .dataframe thead th {\n",
       "        text-align: left;\n",
       "    }\n",
       "\n",
       "    .dataframe tbody tr th {\n",
       "        vertical-align: top;\n",
       "    }\n",
       "</style>\n",
       "<table border=\"1\" class=\"dataframe\">\n",
       "  <thead>\n",
       "    <tr style=\"text-align: right;\">\n",
       "      <th></th>\n",
       "      <th>StartPrice</th>\n",
       "      <th>EndPrice</th>\n",
       "      <th>TradedVolume</th>\n",
       "      <th>logC</th>\n",
       "    </tr>\n",
       "  </thead>\n",
       "  <tbody>\n",
       "    <tr>\n",
       "      <th>0</th>\n",
       "      <td>94.771</td>\n",
       "      <td>94.749</td>\n",
       "      <td>7676</td>\n",
       "      <td>-0.000211</td>\n",
       "    </tr>\n",
       "    <tr>\n",
       "      <th>1</th>\n",
       "      <td>94.701</td>\n",
       "      <td>94.589</td>\n",
       "      <td>1935</td>\n",
       "      <td>-0.001162</td>\n",
       "    </tr>\n",
       "    <tr>\n",
       "      <th>2</th>\n",
       "      <td>94.631</td>\n",
       "      <td>94.749</td>\n",
       "      <td>5429</td>\n",
       "      <td>0.001267</td>\n",
       "    </tr>\n",
       "    <tr>\n",
       "      <th>3</th>\n",
       "      <td>94.761</td>\n",
       "      <td>94.729</td>\n",
       "      <td>3582</td>\n",
       "      <td>-0.000317</td>\n",
       "    </tr>\n",
       "    <tr>\n",
       "      <th>4</th>\n",
       "      <td>94.711</td>\n",
       "      <td>94.689</td>\n",
       "      <td>8392</td>\n",
       "      <td>-0.000211</td>\n",
       "    </tr>\n",
       "  </tbody>\n",
       "</table>\n",
       "</div>"
      ],
      "text/plain": [
       "   StartPrice  EndPrice TradedVolume      logC\n",
       "0      94.771    94.749         7676 -0.000211\n",
       "1      94.701    94.589         1935 -0.001162\n",
       "2      94.631    94.749         5429  0.001267\n",
       "3      94.761    94.729         3582 -0.000317\n",
       "4      94.711    94.689         8392 -0.000211"
      ]
     },
     "execution_count": 18,
     "metadata": {},
     "output_type": "execute_result"
    }
   ],
   "source": [
    "dfs[0].head()"
   ]
  },
  {
   "cell_type": "code",
   "execution_count": 4,
   "metadata": {},
   "outputs": [
    {
     "data": {
      "text/plain": [
       "0.0045511513304399287"
      ]
     },
     "execution_count": 4,
     "metadata": {},
     "output_type": "execute_result"
    }
   ],
   "source": [
    "max(dfs[0]['logC'])"
   ]
  },
  {
   "cell_type": "code",
   "execution_count": 5,
   "metadata": {},
   "outputs": [
    {
     "data": {
      "text/plain": [
       "-0.01056347850956918"
      ]
     },
     "execution_count": 5,
     "metadata": {},
     "output_type": "execute_result"
    }
   ],
   "source": [
    "min(dfs[0]['logC'])"
   ]
  },
  {
   "cell_type": "code",
   "execution_count": null,
   "metadata": {
    "collapsed": true
   },
   "outputs": [],
   "source": []
  }
 ],
 "metadata": {
  "kernelspec": {
   "display_name": "Python 3",
   "language": "python",
   "name": "python3"
  },
  "language_info": {
   "codemirror_mode": {
    "name": "ipython",
    "version": 3
   },
   "file_extension": ".py",
   "mimetype": "text/x-python",
   "name": "python",
   "nbconvert_exporter": "python",
   "pygments_lexer": "ipython3",
   "version": "3.6.3"
  }
 },
 "nbformat": 4,
 "nbformat_minor": 2
}
